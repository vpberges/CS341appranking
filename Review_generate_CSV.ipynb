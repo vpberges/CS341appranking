{
 "cells": [
  {
   "cell_type": "code",
   "execution_count": null,
   "metadata": {
    "collapsed": false
   },
   "outputs": [],
   "source": [
    "#imported libraries\n",
    "import pandas as pd\n",
    "import numpy as np\n",
    "import scipy as sp\n",
    "import math\n",
    "import matplotlib.pyplot as plt\n",
    "import langdetect\n",
    "import datetime\n",
    "%matplotlib inline  \n",
    "from sklearn.svm import SVR\n",
    "from sklearn import linear_model\n",
    "from sklearn.feature_selection import RFE\n",
    "from sklearn.svm import SVR\n",
    "from sklearn.cross_validation import KFold\n",
    "from sklearn.cross_validation import train_test_split\n",
    "from sklearn.ensemble import RandomForestRegressor\n",
    "from sklearn.ensemble import GradientBoostingRegressor\n",
    "from sklearn.preprocessing import Imputer\n",
    "\n",
    "pd.set_option('display.max_rows', 500)\n",
    "pd.set_option('display.max_columns', 500)\n",
    "\n",
    "#Creating of the input data\n",
    "downloads = pd.read_csv('train_app_downloads.csv')\n",
    "reviews = pd.read_csv('train_app_review.csv')\n",
    "ratings = pd.read_csv('train_app_rating.csv')\n",
    "usages = pd.read_csv('train_usage.csv')\n",
    "revenues = pd.read_csv('train_revenue.csv')\n",
    "output = pd.read_csv('train_final_downloads.csv')\n",
    "prev_downloads = pd.read_csv('train_cumulative_downloads_2015-02.csv').drop('Unnamed: 0', 1)\n",
    "dateRange = pd.date_range('2015-03-01', periods=56).format(formatter=lambda x: x.strftime('%Y-%m-%d'))\n",
    "sentiment = pd.read_csv('sentiment.csv',header=-1).ix[:,0]\n",
    "sentiment.values[sentiment.values==0.0] = 0.5\n",
    "reviews[\"sentiment_score\"] = sentiment.values \n",
    "\n",
    "#We map -1 to 0 in the downloads (there are no 0 in the initial data)\n",
    "replacementValue=0\n",
    "#downloads = downloads.replace(-1,replacementValue)\n",
    "imputer = Imputer(missing_values=-1, strategy='median', axis=0)\n",
    "name = downloads.columns\n",
    "downloads = pd.concat([downloads.ix[:,0:5],pd.DataFrame(imputer.fit_transform(downloads.ix[:,5:]))],axis = 1)\n",
    "downloads.columns = name \n",
    "\n",
    "name = usages.columns\n",
    "usages = pd.concat([usages.ix[:,0:6],pd.DataFrame(imputer.fit_transform(usages.ix[:,6:]))],axis = 1)\n",
    "usages.columns = name \n",
    "\n",
    "name = revenues.columns\n",
    "revenues = pd.concat([revenues.ix[:,0:5],pd.DataFrame(imputer.fit_transform(revenues.ix[:,5:]))],axis = 1)\n",
    "revenues.columns = name \n",
    "\n",
    "\n",
    "\n",
    "#Minor corrections\n",
    "ratings = ratings.rename(columns={'start1': 'star1'})\n",
    "ratings = pd.merge(downloads.drop(dateRange,1), ratings.drop('Unnamed: 0', 1), how='left',\n",
    "                   on=[\"id\",\"name\",\"category\"]).replace(\"NaN\",replacementValue)"
   ]
  },
  {
   "cell_type": "code",
   "execution_count": 22,
   "metadata": {
    "collapsed": true
   },
   "outputs": [],
   "source": [
    "predictors = pd.read_csv('predictors.csv').drop('Unnamed: 0', 1)\n",
    "predictors = predictors.fillna(0)"
   ]
  },
  {
   "cell_type": "code",
   "execution_count": null,
   "metadata": {
    "collapsed": true
   },
   "outputs": [],
   "source": [
    "\n",
    "def detect_language(x):\n",
    "    try:\n",
    "        detected = langdetect.detect(x.decode('utf8','ignore'))\n",
    "        if detected in ['ja']:\n",
    "            return 'japanese'\n",
    "        elif detected in ['zh-cn']:\n",
    "            return 'chinese'\n",
    "        elif detected in ['ko']:\n",
    "            return 'korean'\n",
    "        elif detected in ['en']:\n",
    "            return 'english'\n",
    "        return 'other'\n",
    "    except:\n",
    "        return 'other'\n",
    "        #return None\n",
    "\n",
    "def set_lang_categories(x, cat):\n",
    "    if x == cat:\n",
    "        return 1\n",
    "    else:\n",
    "        return 0\n",
    "    \n",
    "reviews_withLang = reviews.copy()\n",
    "reviews_lang = reviews['text'].apply(detect_language,axis =1)\n",
    "\n",
    "print list(set(reviews_lang))"
   ]
  },
  {
   "cell_type": "code",
   "execution_count": null,
   "metadata": {
    "collapsed": true
   },
   "outputs": [],
   "source": [
    "def detect_language(x):\n",
    "    try:\n",
    "        detected = detect_langs(aaa.decode('utf-8', 'ignore'))[0]\n",
    "        if detected.prob < 0.7\n",
    "            return \"to_drop\"\n",
    "        else:\n",
    "            return detected.lang\n",
    "    except:\n",
    "        return \"to_drop\"\n",
    "    \n",
    "for cat in list(set(lang_series)).remove(\"to_drop\"):\n",
    "    predictors[cat] = lang_series.apply(set_lang_categories, args=(cat,))"
   ]
  },
  {
   "cell_type": "code",
   "execution_count": 23,
   "metadata": {
    "collapsed": false
   },
   "outputs": [],
   "source": [
    "reviews = reviews[:30]"
   ]
  },
  {
   "cell_type": "code",
   "execution_count": null,
   "metadata": {
    "collapsed": false
   },
   "outputs": [],
   "source": [
    "def lan(x):\n",
    "    try:\n",
    "        detected = langdetect.detect_langs(x.decode('utf-8', 'ignore'))[0]\n",
    "        return detected.lang\n",
    "    except:\n",
    "        return \"language_error\"\n",
    "    \n",
    "def prob(x):\n",
    "    try:\n",
    "        detected = langdetect.detect_langs(x.decode('utf-8', 'ignore'))[0]\n",
    "        return detected.prob\n",
    "    except:\n",
    "        return 0\n",
    "\n",
    "    \n",
    "reviews['language'] = reviews['text'].apply(lan)\n",
    "reviews['probability'] = reviews['text'].apply(prob)"
   ]
  },
  {
   "cell_type": "code",
   "execution_count": null,
   "metadata": {
    "collapsed": false
   },
   "outputs": [],
   "source": [
    "reviews"
   ]
  },
  {
   "cell_type": "code",
   "execution_count": null,
   "metadata": {
    "collapsed": false
   },
   "outputs": [],
   "source": []
  },
  {
   "cell_type": "code",
   "execution_count": null,
   "metadata": {
    "collapsed": true
   },
   "outputs": [],
   "source": []
  }
 ],
 "metadata": {
  "kernelspec": {
   "display_name": "Python 2",
   "language": "python",
   "name": "python2"
  },
  "language_info": {
   "codemirror_mode": {
    "name": "ipython",
    "version": 2
   },
   "file_extension": ".py",
   "mimetype": "text/x-python",
   "name": "python",
   "nbconvert_exporter": "python",
   "pygments_lexer": "ipython2",
   "version": "2.7.11"
  }
 },
 "nbformat": 4,
 "nbformat_minor": 0
}
