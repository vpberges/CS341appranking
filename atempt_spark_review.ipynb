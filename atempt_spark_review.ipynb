{
 "cells": [
  {
   "cell_type": "markdown",
   "metadata": {},
   "source": [
    "#### Initial Setup"
   ]
  },
  {
   "cell_type": "code",
   "execution_count": 1,
   "metadata": {
    "collapsed": false
   },
   "outputs": [
    {
     "name": "stderr",
     "output_type": "stream",
     "text": [
      "/usr/local/lib/python2.7/site-packages/matplotlib/font_manager.py:273: UserWarning: Matplotlib is building the font cache using fc-list. This may take a moment.\n",
      "  warnings.warn('Matplotlib is building the font cache using fc-list. This may take a moment.')\n"
     ]
    }
   ],
   "source": [
    "#imported libraries\n",
    "import pandas as pd\n",
    "pd.set_option('display.max_rows', 500)\n",
    "pd.set_option('display.max_columns', 500)\n",
    "import numpy as np\n",
    "import scipy as sp\n",
    "import math\n",
    "import matplotlib.pyplot as plt\n",
    "import langdetect\n",
    "import datetime\n",
    "%matplotlib inline  \n",
    "from sklearn.svm import SVR\n",
    "from sklearn import linear_model\n",
    "from sklearn.feature_selection import RFE\n",
    "from sklearn.svm import SVR\n",
    "from sklearn.cross_validation import KFold\n",
    "from sklearn.cross_validation import train_test_split\n",
    "from sklearn.ensemble import RandomForestRegressor\n",
    "from sklearn.ensemble import GradientBoostingRegressor\n",
    "from sklearn.preprocessing import Imputer\n",
    "\n",
    "import findspark; findspark.init()\n",
    "import pyspark\n",
    "import os\n",
    "from pyspark.sql.types import *\n",
    "import pyspark.sql.functions as func\n",
    "\n",
    "os.environ[\"PYSPARK_SUBMIT_ARGS\"] = (\"--packages com.databricks:spark-csv_2.11:1.4.0 pyspark-shell\")\n",
    "\n",
    "\n",
    "try:\n",
    "    from pyspark import SparkConf\n",
    "    sconf = SparkConf()\n",
    "    conf = sconf\\\n",
    "    .set(\"spark.driver.cores\",\"20\")\\\n",
    "    .set(\"spark.executor.memory\", \"30g\")\\\n",
    "    .set(\"spark.driver.memory\", \"30g\")\\\n",
    "    .set(\"spark.python.worker.memory\", \"30g\")\n",
    "    sc = pyspark.SparkContext(conf=conf)\n",
    "except Exception as e:\n",
    "    print \"SparkContext exists... Continuing on.\"\n",
    "    \n",
    "sqlCtx = pyspark.sql.SQLContext(sc)"
   ]
  },
  {
   "cell_type": "markdown",
   "metadata": {},
   "source": [
    "#### Load files"
   ]
  },
  {
   "cell_type": "code",
   "execution_count": 3,
   "metadata": {
    "collapsed": false
   },
   "outputs": [],
   "source": [
    "downloads = sqlCtx.read \\\n",
    "    .format('com.databricks.spark.csv') \\\n",
    "    .options(header='true',inferSchema='true') \\\n",
    "    .load('train_app_downloads.csv').drop('')\n",
    "ratings = sqlCtx.read \\\n",
    "    .format('com.databricks.spark.csv') \\\n",
    "    .options(header='true',inferSchema='true') \\\n",
    "    .load('train_app_rating.csv').drop('')\n",
    "usages = sqlCtx.read \\\n",
    "    .format('com.databricks.spark.csv') \\\n",
    "    .options(header='true',inferSchema='true') \\\n",
    "    .load('train_usage.csv').drop('')\n",
    "revenues = sqlCtx.read \\\n",
    "    .format('com.databricks.spark.csv') \\\n",
    "    .options(header='true',inferSchema='true') \\\n",
    "    .load('train_revenue.csv').drop('')\n",
    "output = sqlCtx.read \\\n",
    "    .format('com.databricks.spark.csv') \\\n",
    "    .options(header='true',inferSchema='true') \\\n",
    "    .load('train_final_downloads.csv').drop('')\n",
    "prev_downloads = sqlCtx.read \\\n",
    "    .format('com.databricks.spark.csv') \\\n",
    "    .options(header='true',inferSchema='true') \\\n",
    "    .load('train_cumulative_downloads_2015-02.csv').drop('')  \n",
    "release_date = sqlCtx.read \\\n",
    "    .format('com.databricks.spark.csv') \\\n",
    "    .options(header='true',inferSchema='true') \\\n",
    "    .load('train_release_date.csv').drop('')\n",
    "    \n",
    "reviews = pd.read_csv('train_app_review.csv')\n",
    "reviews_schema = StructType([\n",
    "    StructField(\"id\",IntegerType(),True),\n",
    "    StructField(\"name\",StringType(),True),\n",
    "    StructField(\"country\",StringType(),True),\n",
    "    StructField(\"rating\",IntegerType(),True),\n",
    "    StructField(\"date\",StringType(),True),\n",
    "    StructField(\"title\",StringType(),True),\n",
    "    StructField(\"version\",StringType(),True),\n",
    "    StructField(\"text\",StringType(),True),\n",
    "    StructField(\"reviewer\",StringType(),True)\n",
    "])\n",
    "reviews = sqlCtx.createDataFrame(reviews,reviews_schema)"
   ]
  },
  {
   "cell_type": "markdown",
   "metadata": {},
   "source": [
    "#### Generate Predictors"
   ]
  },
  {
   "cell_type": "code",
   "execution_count": null,
   "metadata": {
    "collapsed": false
   },
   "outputs": [],
   "source": [
    "old_dateRange = pd.date_range('2015-03-01', periods=56).format(formatter=lambda x: x.strftime('%Y-%m-%d'))\n",
    "dateRange = pd.date_range('2015-03-01', periods=56).format(formatter=lambda x: x.strftime('%Y_%m_%d'))\n",
    "for d in range(56):\n",
    "    revenues = revenues.withColumnRenamed(old_dateRange[d],dateRange[d])\n",
    "    usages = usages.withColumnRenamed(old_dateRange[d],dateRange[d])\n",
    "    downloads = downloads.withColumnRenamed(old_dateRange[d],dateRange[d])"
   ]
  },
  {
   "cell_type": "code",
   "execution_count": null,
   "metadata": {
    "collapsed": false
   },
   "outputs": [],
   "source": [
    "#Initialization\n",
    "predictors = downloads['id','name','category','device']"
   ]
  },
  {
   "cell_type": "code",
   "execution_count": null,
   "metadata": {
    "collapsed": false
   },
   "outputs": [],
   "source": [
    "# Generate the weekly downloads\n",
    "sqlCtx.registerDataFrameAsTable(downloads, \"downloads\")\n",
    "predictors = sqlCtx.sql(\"SELECT id, name, category, device , \"+\\\n",
    "           \"+\".join(dateRange[0:7])+\" AS week_1 ,\"+\\\n",
    "           \"+\".join(dateRange[7:14])+\" AS week_2 ,\"+\\\n",
    "           \"+\".join(dateRange[14:21])+\" AS week_3 ,\"+\\\n",
    "           \"+\".join(dateRange[21:28])+\" AS week_4 ,\"+\\\n",
    "           \"+\".join(dateRange[28:35])+\" AS week_5 ,\"+\\\n",
    "           \"+\".join(dateRange[35:42])+\" AS week_6 ,\"+\\\n",
    "           \"+\".join(dateRange[42:49])+\" AS week_7 ,\"+\\\n",
    "           \"+\".join(dateRange[49:56])+\" AS week_8 ,\"+\\\n",
    "           \"+\".join(dateRange)+\" AS download_sum \\\n",
    "           from downloads\")"
   ]
  },
  {
   "cell_type": "code",
   "execution_count": null,
   "metadata": {
    "collapsed": false
   },
   "outputs": [],
   "source": [
    "# Make coefficients for download regression\n",
    "def get_coefficients(*args):\n",
    "    #The first element of the list is the degree of the coefficient\n",
    "    args = list(args)\n",
    "    return  float(np.polyfit(range(56),np.cumsum(args[1:]),args[0])[0])\n",
    "#Generate the step max and min \n",
    "def get_maxStep(maximum,*args):\n",
    "    args=list(args)\n",
    "    if (np.count_nonzero(args) == 0):\n",
    "        return 0\n",
    "    m = 0\n",
    "    for d in range(1,56):\n",
    "        if (args[d]!=0 and args[d-1]!=0):\n",
    "            c = (args[d]-args[d-1])\n",
    "            if (maximum and m < c):\n",
    "                m = c\n",
    "            if ( not maximum and m > c):\n",
    "                m = c\n",
    "    return m\n",
    "#generate standard deviation\n",
    "def get_std(*args):\n",
    "    return float(np.std(list(args)))\n",
    "#generate the number of missing values (imputation must be done after this)\n",
    "def get_nbMissing(*args):\n",
    "    return list(args).count(-1)\n",
    "\n",
    "sqlCtx.registerFunction(\"get_nbMissing\", get_nbMissing,returnType=IntegerType())\n",
    "sqlCtx.registerFunction(\"get_std\", get_std,returnType=FloatType())\n",
    "sqlCtx.registerFunction(\"get_maxStep\", get_maxStep,returnType=IntegerType())\n",
    "sqlCtx.registerFunction(\"get_coefficients\", get_coefficients,returnType=FloatType())\n",
    "temp_downloads = sqlCtx.sql(\"SELECT id,name,category, device \\\n",
    ",get_coefficients(0,\"+\",\".join(dateRange)+\") AS coef_0 \\\n",
    ",get_coefficients(1,\"+\",\".join(dateRange)+\") AS coef_1 \\\n",
    ",get_coefficients(2,\"+\",\".join(dateRange)+\") AS coef_2 \\\n",
    ",get_coefficients(3,\"+\",\".join(dateRange)+\") AS coef_3 \\\n",
    ",get_maxStep(True,\"+\",\".join(dateRange)+\") AS max_step \\\n",
    ",get_maxStep(False,\"+\",\".join(dateRange)+\") AS min_step \\\n",
    ",get_std(\"+\",\".join(dateRange)+\") AS downloads_std \\\n",
    ",get_nbMissing(\"+\",\".join(dateRange)+\") AS nb_missing \\\n",
    " FROM downloads\")\n",
    "\n",
    "predictors = predictors.join(temp_downloads,[\"id\",\"name\",\"category\",\"device\"])"
   ]
  },
  {
   "cell_type": "code",
   "execution_count": null,
   "metadata": {
    "collapsed": false
   },
   "outputs": [],
   "source": [
    "# previous downloads addition\n",
    "predictors = predictors.join(prev_downloads,[\"id\",\"device\"])"
   ]
  },
  {
   "cell_type": "code",
   "execution_count": null,
   "metadata": {
    "collapsed": false
   },
   "outputs": [],
   "source": [
    "# Days since release generation\n",
    "def get_days(date):\n",
    "    return (datetime.datetime.strptime('03/01/2015', '%m/%d/%Y').date() \\\n",
    "            - datetime.datetime.strptime(date, '%m/%d/%Y').date()).days\n",
    "\n",
    "sqlCtx.registerDataFrameAsTable(release_date, \"release_date\")\n",
    "sqlCtx.registerFunction(\"get_days\", get_days,returnType=IntegerType())\n",
    "temp_date = sqlCtx.sql(\"SELECT id,name \\\n",
    ", get_days(release_date) AS days_since_release \\\n",
    " FROM release_date\")\n",
    "\n",
    "predictors = predictors.join(temp_date,[\"id\",\"name\"],\"left\")"
   ]
  },
  {
   "cell_type": "code",
   "execution_count": null,
   "metadata": {
    "collapsed": true
   },
   "outputs": [],
   "source": [
    "#ratings generation\n",
    "sqlCtx.registerDataFrameAsTable(ratings, \"ratings\")\n",
    "temp_ratings = sqlCtx.sql(\"SELECT id,name,category \\\n",
    ", start1/(start1+star2+star3+star4+star5) AS star1 \\\n",
    ", star2/(start1+star2+star3+star4+star5) AS star2 \\\n",
    ", star3/(start1+star2+star3+star4+star5) AS star3 \\\n",
    ", star4/(start1+star2+star3+star4+star5) AS star4 \\\n",
    ", star5/(start1+star2+star3+star4+star5) AS star5 \\\n",
    ", (start1+star2+star3+star4+star5) AS num_ratings \\\n",
    " FROM ratings\")\n",
    "\n",
    "predictors = predictors.join(temp_ratings,[\"id\",\"name\",\"category\"],\"left\")"
   ]
  },
  {
   "cell_type": "code",
   "execution_count": null,
   "metadata": {
    "collapsed": false
   },
   "outputs": [],
   "source": [
    "# Categories\n",
    "list_categories = [ x.category.replace(\" \",\"_\") for x in sqlCtx.sql(\"SELECT category \\\n",
    " FROM downloads\\\n",
    " group by category \\\n",
    " \").collect()]\n",
    "for cat in list_categories:\n",
    "    sqlCtx.registerDataFrameAsTable(predictors, \"predictors\")\n",
    "    predictors=sqlCtx.sql('''SELECT *, CASE WHEN (category = \"'''+cat+'''\") THEN 1 ELSE 0 END AS '''+cat+''' FROM predictors''')\n"
   ]
  },
  {
   "cell_type": "code",
   "execution_count": null,
   "metadata": {
    "collapsed": false
   },
   "outputs": [],
   "source": [
    "# Device\n",
    "sqlCtx.registerDataFrameAsTable(predictors, \"predictors\")\n",
    "predictors=sqlCtx.sql('''SELECT *, CASE WHEN (device = \"iphone\") THEN 1 ELSE 0 END AS iphone FROM predictors''')\n",
    "sqlCtx.registerDataFrameAsTable(predictors, \"predictors\")\n",
    "predictors=sqlCtx.sql('''SELECT *, CASE WHEN (device = \"ipad\") THEN 1 ELSE 0 END AS ipad FROM predictors''')"
   ]
  },
  {
   "cell_type": "code",
   "execution_count": 3,
   "metadata": {
    "collapsed": true
   },
   "outputs": [],
   "source": [
    "def get_language(x):\n",
    "    try:\n",
    "        detected = langdetect.detect_langs(x.decode('utf8','ignore'))[0]\n",
    "        if detected.prob < 0.7:\n",
    "            return \"other\"\n",
    "        else :\n",
    "            return detected.lang\n",
    "    except:\n",
    "        return \"other\"\n",
    "sqlCtx.registerFunction(\"get_language\", get_language,returnType=StringType())"
   ]
  },
  {
   "cell_type": "code",
   "execution_count": null,
   "metadata": {
    "collapsed": false
   },
   "outputs": [],
   "source": [
    "#Language of the title\n",
    "lang = ['ja','zh-cn','ko','en']\n",
    "for l in lang:\n",
    "    sqlCtx.registerDataFrameAsTable(predictors, \"predictors\")\n",
    "    predictors=sqlCtx.sql('''SELECT *, CASE WHEN (get_language(name) = \"'''+l+'''\") THEN 1 \\\n",
    "    ELSE 0 END AS '''+l.replace(\"-\",\"_\")+''' FROM predictors''')"
   ]
  },
  {
   "cell_type": "code",
   "execution_count": 4,
   "metadata": {
    "collapsed": false
   },
   "outputs": [],
   "source": [
    "# Reviews\n",
    "sqlCtx.registerDataFrameAsTable(reviews, \"reviews\")\n",
    "\n",
    "#escape is used in case some asshole used - or [space] anywhere\n",
    "def escape(text):\n",
    "    return text.replace(\" \",\"_\").replace(\"-\",\"_\")\n",
    "sqlCtx.registerFunction(\"escape\", escape,returnType=StringType())\n",
    "#sentiment\n",
    "def get_sentiment(text,title):\n",
    "    return 0.5\n",
    "sqlCtx.registerFunction(\"get_sentiment\", get_sentiment,returnType=FloatType())\n",
    "# number of reviews\n",
    "def get_recentReviews(date):\n",
    "    return int((datetime.datetime.strptime('03/01/2015', '%m/%d/%Y').date() \\\n",
    "            - datetime.datetime.strptime(date, '%Y-%m-%d').date()).days >=0)\n",
    "sqlCtx.registerFunction(\"get_recentReviews\", get_recentReviews,returnType=IntegerType())\n",
    "\n",
    "list_languages = ['el', 'gu', 'en', 'af', 'vi', 'ca', 'it', 'kn','cy', 'ar', 'cs', 'et', 'es', 'ru', 'nl', 'pt', 'no', 'zh_tw', 'tr','lt', 'lv', 'zh_cn', 'tl', 'pa', 'th', 'ro', 'pl', 'ta', 'fr', 'bg','hr', 'bn', 'de', 'da', 'fa', 'hi', 'fi', 'hu', 'ja', 'he', 'te','ne', 'sq', 'ko', 'sv', 'mk', 'ur', 'sk', 'so', 'uk', 'sl', 'mr','sw']\n",
    "list_countries =['United_States', 'France', 'Japan', 'Spain', 'United_Kingdom','Saudi_Arabia', 'Germany', 'Hong_Kong', 'Switzerland', 'Turkey','Netherlands', 'Australia', 'Norway', 'Sweden', 'China', 'Canada','Tanzania', 'Denmark', 'South_Korea', 'Italy', 'Finland', 'Taiwan','Russia', 'Philippines', 'Slovenia', 'Ireland', 'Belgium', 'Mexico','Austria', 'India', 'Brazil', 'Benin', 'New_Zealand','United_Arab_Emirates', 'Ukraine', 'Poland', 'Israel', 'Portugal','Tunisia', 'Mali', 'Slovakia', 'Zimbabwe', 'Thailand', 'Panama','Indonesia', 'Singapore', 'Greece', 'Senegal', 'Nicaragua','Hungary', 'Czech_Republic', 'Macedonia', 'Chile', 'Uruguay','Malaysia', 'Algeria', 'Nepal', 'Mauritania', 'Croatia']\n",
    "\n",
    "#sentiment, 1 and recent\n",
    "sql_quiery = '''SELECT id,version\\\n",
    ", get_sentiment(text,title) AS sentiment\\\n",
    ", CAST(get_recentReviews(date) AS tinyint) AS recent_reviews\\\n",
    ", CAST(1 AS tinyint) AS nb_reviews '''\n",
    "\n",
    "#languages expanded\n",
    "for l in list_languages:\n",
    "    sql_quiery+= ''', CAST(CASE WHEN (get_language(text) = \"'''+l+'''\") THEN 1 \\\n",
    "    ELSE 0 END AS tinyint) AS '''+l.replace(\"-\",\"_\")\n",
    "\n",
    "#Countries\n",
    "for c in list_countries:\n",
    "    sql_quiery+=''', CAST(CASE WHEN (escape(country) = \"'''+c+'''\") THEN 1 \\\n",
    "    ELSE 0 END AS tinyint) AS '''+c.replace(\"-\",\"_\")\n",
    "      \n",
    "sql_quiery +=''' FROM reviews'''\n",
    "reviews=sqlCtx.sql(sql_quiery)\n",
    "\n",
    "\n",
    "sqlCtx.registerDataFrameAsTable(reviews, \"reviews\")\n"
   ]
  },
  {
   "cell_type": "code",
   "execution_count": 5,
   "metadata": {
    "collapsed": false
   },
   "outputs": [],
   "source": [
    "#reviews = sqlCtx.sql(\"SELECT * FROM reviews SORT BY id\")"
   ]
  },
  {
   "cell_type": "code",
   "execution_count": 6,
   "metadata": {
    "collapsed": false
   },
   "outputs": [
    {
     "data": {
      "text/plain": [
       "[Row(id=281704574, version=u'6.0.6', sentiment=0.5, recent_reviews=0, nb_reviews=1, el=0, gu=0, en=1, af=0, vi=0, ca=0, it=0, kn=0, cy=0, ar=0, cs=0, et=0, es=0, ru=0, nl=0, pt=0, no=0, zh_tw=0, tr=0, lt=0, lv=0, zh_cn=0, tl=0, pa=0, th=0, ro=0, pl=0, ta=0, fr=0, bg=0, hr=0, bn=0, de=0, da=0, fa=0, hi=0, fi=0, hu=0, ja=0, he=0, te=0, ne=0, sq=0, ko=0, sv=0, mk=0, ur=0, sk=0, so=0, uk=0, sl=0, mr=0, sw=0, United_States=1, France=0, Japan=0, Spain=0, United_Kingdom=0, Saudi_Arabia=0, Germany=0, Hong_Kong=0, Switzerland=0, Turkey=0, Netherlands=0, Australia=0, Norway=0, Sweden=0, China=0, Canada=0, Tanzania=0, Denmark=0, South_Korea=0, Italy=0, Finland=0, Taiwan=0, Russia=0, Philippines=0, Slovenia=0, Ireland=0, Belgium=0, Mexico=0, Austria=0, India=0, Brazil=0, Benin=0, New_Zealand=0, United_Arab_Emirates=0, Ukraine=0, Poland=0, Israel=0, Portugal=0, Tunisia=0, Mali=0, Slovakia=0, Zimbabwe=0, Thailand=0, Panama=0, Indonesia=0, Singapore=0, Greece=0, Senegal=0, Nicaragua=0, Hungary=0, Czech_Republic=0, Macedonia=0, Chile=0, Uruguay=0, Malaysia=0, Algeria=0, Nepal=0, Mauritania=0, Croatia=0)]"
      ]
     },
     "execution_count": 6,
     "metadata": {},
     "output_type": "execute_result"
    }
   ],
   "source": [
    "reviews.head(1)"
   ]
  },
  {
   "cell_type": "code",
   "execution_count": null,
   "metadata": {
    "collapsed": false
   },
   "outputs": [],
   "source": [
    "reviews = reviews.cache()"
   ]
  },
  {
   "cell_type": "code",
   "execution_count": null,
   "metadata": {
    "collapsed": false
   },
   "outputs": [],
   "source": [
    "#Group the reviews first step (need to modify both in case a new column is added)\n",
    "fields_to_group = [\"nb_reviews\",\"recent_reviews\"]\n",
    "for l in list_languages:\n",
    "    fields_to_group.append(l)\n",
    "for c in list_countries:\n",
    "    fields_to_group.append(c)\n",
    "    \n",
    "sql_quiery = \"SELECT id, AVG(sentiment) AS sentiment, COUNT(DISTINCT version) AS versions\"\n",
    "for f in fields_to_group:\n",
    "    sql_quiery+= \", SUM(\"+f+\") AS \"+f\n",
    "sql_quiery+= \" FROM reviews GROUP BY id\"\n",
    "\n",
    "#print sql_quiery\n",
    "\n",
    "reviews = sqlCtx.sql(sql_quiery)\n"
   ]
  },
  {
   "cell_type": "code",
   "execution_count": null,
   "metadata": {
    "collapsed": false
   },
   "outputs": [],
   "source": [
    "reviews.head(1)"
   ]
  },
  {
   "cell_type": "code",
   "execution_count": null,
   "metadata": {
    "collapsed": false
   },
   "outputs": [],
   "source": [
    "'''#Group the reviews second step (need to modify both in case a new column is added)\n",
    "#Make the Gini and other post grouping predictors\n",
    "def get_gini(*args):\n",
    "    args = list(args)\n",
    "    tot = sum(args)\n",
    "    return sum([1.0*x / tot * (1 - 1.0*x / tot) for x in args])\n",
    "sqlCtx.registerFunction(\"get_gini\", get_gini,returnType=FloatType())\n",
    "\n",
    "sqlCtx.registerDataFrameAsTable(reviews, \"reviews\")\n",
    "sql_quiery = \"SELECT id , sentiment, nb_reviews,recent_reviews,versions\"\n",
    "for c in list_countries:\n",
    "    sql_quiery+= \",\"+c\n",
    "sql_quiery+= \" , get_gini(0\"\n",
    "for l in list_languages:\n",
    "    sql_quiery+= \",\"+l\n",
    "sql_quiery+= \") AS gini_reviews FROM reviews\"\n",
    "    \n",
    "reviews = sqlCtx.sql(sql_quiery)\n",
    "\n",
    "predictors = predictors.join(reviews,[\"id\"],\"left\")'''"
   ]
  },
  {
   "cell_type": "code",
   "execution_count": null,
   "metadata": {
    "collapsed": false
   },
   "outputs": [],
   "source": []
  },
  {
   "cell_type": "code",
   "execution_count": null,
   "metadata": {
    "collapsed": false
   },
   "outputs": [],
   "source": []
  },
  {
   "cell_type": "code",
   "execution_count": null,
   "metadata": {
    "collapsed": false
   },
   "outputs": [],
   "source": [
    "reviews.head(1)"
   ]
  },
  {
   "cell_type": "code",
   "execution_count": null,
   "metadata": {
    "collapsed": false
   },
   "outputs": [],
   "source": [
    "#grp_reviews.toPandas().to_csv('grp_reviews.csv')\n",
    "#grp_reviews.head(1)"
   ]
  },
  {
   "cell_type": "code",
   "execution_count": null,
   "metadata": {
    "collapsed": true
   },
   "outputs": [],
   "source": []
  },
  {
   "cell_type": "code",
   "execution_count": null,
   "metadata": {
    "collapsed": true
   },
   "outputs": [],
   "source": []
  },
  {
   "cell_type": "code",
   "execution_count": null,
   "metadata": {
    "collapsed": true
   },
   "outputs": [],
   "source": []
  },
  {
   "cell_type": "code",
   "execution_count": null,
   "metadata": {
    "collapsed": true
   },
   "outputs": [],
   "source": []
  },
  {
   "cell_type": "code",
   "execution_count": null,
   "metadata": {
    "collapsed": true
   },
   "outputs": [],
   "source": []
  },
  {
   "cell_type": "code",
   "execution_count": null,
   "metadata": {
    "collapsed": true
   },
   "outputs": [],
   "source": []
  },
  {
   "cell_type": "code",
   "execution_count": null,
   "metadata": {
    "collapsed": true
   },
   "outputs": [],
   "source": []
  },
  {
   "cell_type": "code",
   "execution_count": null,
   "metadata": {
    "collapsed": true
   },
   "outputs": [],
   "source": []
  },
  {
   "cell_type": "code",
   "execution_count": null,
   "metadata": {
    "collapsed": true
   },
   "outputs": [],
   "source": []
  },
  {
   "cell_type": "code",
   "execution_count": null,
   "metadata": {
    "collapsed": true
   },
   "outputs": [],
   "source": []
  },
  {
   "cell_type": "code",
   "execution_count": null,
   "metadata": {
    "collapsed": true
   },
   "outputs": [],
   "source": []
  },
  {
   "cell_type": "code",
   "execution_count": null,
   "metadata": {
    "collapsed": true
   },
   "outputs": [],
   "source": []
  },
  {
   "cell_type": "code",
   "execution_count": null,
   "metadata": {
    "collapsed": false
   },
   "outputs": [],
   "source": [
    "reviews"
   ]
  },
  {
   "cell_type": "code",
   "execution_count": null,
   "metadata": {
    "collapsed": false
   },
   "outputs": [],
   "source": [
    "reviews.head(1)"
   ]
  },
  {
   "cell_type": "code",
   "execution_count": null,
   "metadata": {
    "collapsed": false
   },
   "outputs": [],
   "source": [
    "reviews.orderBy(func.desc(\"id\")).head(1)\n"
   ]
  },
  {
   "cell_type": "code",
   "execution_count": null,
   "metadata": {
    "collapsed": false
   },
   "outputs": [],
   "source": [
    "Row(**dict(row.asDict()))"
   ]
  },
  {
   "cell_type": "code",
   "execution_count": null,
   "metadata": {
    "collapsed": false
   },
   "outputs": [],
   "source": [
    "(lambda row: Row(**dict(row.asDict(), test=-1)))(row)"
   ]
  },
  {
   "cell_type": "code",
   "execution_count": null,
   "metadata": {
    "collapsed": false
   },
   "outputs": [],
   "source": [
    "downloads.head(1)"
   ]
  },
  {
   "cell_type": "code",
   "execution_count": null,
   "metadata": {
    "collapsed": false
   },
   "outputs": [],
   "source": [
    "grp_reviews.head(1)"
   ]
  },
  {
   "cell_type": "code",
   "execution_count": 3,
   "metadata": {
    "collapsed": false
   },
   "outputs": [],
   "source": [
    "reviews = sqlCtx.createDataFrame(reviews.head(10000))"
   ]
  },
  {
   "cell_type": "code",
   "execution_count": null,
   "metadata": {
    "collapsed": false
   },
   "outputs": [],
   "source": [
    "temp_reviews.head(1)"
   ]
  },
  {
   "cell_type": "code",
   "execution_count": null,
   "metadata": {
    "collapsed": true
   },
   "outputs": [],
   "source": [
    "reviews.orderBy(func.desc(\"rating\")).head(1)"
   ]
  },
  {
   "cell_type": "code",
   "execution_count": null,
   "metadata": {
    "collapsed": false
   },
   "outputs": [],
   "source": [
    "reviews = pd.read_csv('train_app_review.csv')\n",
    "reviews_schema = StructType([\n",
    "    StructField(\"id\",StringType(),True),\n",
    "    StructField(\"name\",StringType(),True),\n",
    "    StructField(\"country\",StringType(),True),\n",
    "    StructField(\"rating\",StringType(),True),\n",
    "    StructField(\"date\",StringType(),True),\n",
    "    StructField(\"title\",StringType(),True),\n",
    "    StructField(\"version\",StringType(),True),\n",
    "    StructField(\"text\",StringType(),True),\n",
    "    StructField(\"reviewer\",StringType(),True)\n",
    "])\n",
    "reviews = sqlCtx.createDataFrame(reviews,reviews_schema)"
   ]
  },
  {
   "cell_type": "code",
   "execution_count": null,
   "metadata": {
    "collapsed": false
   },
   "outputs": [],
   "source": [
    "reviews.orderBy(func.desc(\"id\")).head(1)"
   ]
  },
  {
   "cell_type": "code",
   "execution_count": null,
   "metadata": {
    "collapsed": false
   },
   "outputs": [],
   "source": [
    "reviews.orderBy(func.desc(\"rating\")).head(1)"
   ]
  },
  {
   "cell_type": "code",
   "execution_count": null,
   "metadata": {
    "collapsed": true
   },
   "outputs": [],
   "source": []
  },
  {
   "cell_type": "code",
   "execution_count": null,
   "metadata": {
    "collapsed": true
   },
   "outputs": [],
   "source": []
  },
  {
   "cell_type": "code",
   "execution_count": null,
   "metadata": {
    "collapsed": true
   },
   "outputs": [],
   "source": []
  },
  {
   "cell_type": "code",
   "execution_count": null,
   "metadata": {
    "collapsed": true
   },
   "outputs": [],
   "source": []
  },
  {
   "cell_type": "code",
   "execution_count": null,
   "metadata": {
    "collapsed": true
   },
   "outputs": [],
   "source": []
  },
  {
   "cell_type": "code",
   "execution_count": 4,
   "metadata": {
    "collapsed": false
   },
   "outputs": [],
   "source": [
    "# Reviews\n",
    "sqlCtx.registerDataFrameAsTable(reviews, \"reviews\")\n",
    "def get_language(x):\n",
    "    try:\n",
    "        detected = langdetect.detect_langs(x.decode('utf8','ignore'))[0]\n",
    "        if detected.prob < 0.7:\n",
    "            return \"other\"\n",
    "        else :\n",
    "            return detected.lang\n",
    "    except:\n",
    "        return \"other\"\n",
    "sqlCtx.registerFunction(\"get_language\", get_language,returnType=StringType())\n",
    "#escape is used in case some asshole used - or [space] anywhere\n",
    "def escape(text):\n",
    "    return text.replace(\" \",\"_\").replace(\"-\",\"_\")\n",
    "sqlCtx.registerFunction(\"escape\", escape,returnType=StringType())\n",
    "#sentiment\n",
    "def get_sentiment(text,title):\n",
    "    return 0.5\n",
    "sqlCtx.registerFunction(\"get_sentiment\", get_sentiment,returnType=FloatType())\n",
    "# number of reviews\n",
    "def get_recentReviews(date):\n",
    "    return int((datetime.datetime.strptime('03/01/2015', '%m/%d/%Y').date() \\\n",
    "            - datetime.datetime.strptime(date, '%Y-%m-%d').date()).days >=0)\n",
    "sqlCtx.registerFunction(\"get_recentReviews\", get_recentReviews,returnType=IntegerType())\n",
    "\n",
    "list_languages = ['el', 'gu', 'en', 'af', 'vi', 'ca', 'it', 'kn','cy', 'ar', 'cs', 'et', 'es', 'ru', 'nl', 'pt', 'no', 'zh_tw', 'tr','lt', 'lv', 'zh_cn', 'tl', 'pa', 'th', 'ro', 'pl', 'ta', 'fr', 'bg','hr', 'bn', 'de', 'da', 'fa', 'hi', 'fi', 'hu', 'ja', 'he', 'te','ne', 'sq', 'ko', 'sv', 'mk', 'ur', 'sk', 'so', 'uk', 'sl', 'mr','sw']\n",
    "list_countries =['United_States', 'France', 'Japan', 'Spain', 'United_Kingdom','Saudi_Arabia', 'Germany', 'Hong_Kong', 'Switzerland', 'Turkey','Netherlands', 'Australia', 'Norway', 'Sweden', 'China', 'Canada','Tanzania', 'Denmark', 'South_Korea', 'Italy', 'Finland', 'Taiwan','Russia', 'Philippines', 'Slovenia', 'Ireland', 'Belgium', 'Mexico','Austria', 'India', 'Brazil', 'Benin', 'New_Zealand','United_Arab_Emirates', 'Ukraine', 'Poland', 'Israel', 'Portugal','Tunisia', 'Mali', 'Slovakia', 'Zimbabwe', 'Thailand', 'Panama','Indonesia', 'Singapore', 'Greece', 'Senegal', 'Nicaragua','Hungary', 'Czech_Republic', 'Macedonia', 'Chile', 'Uruguay','Malaysia', 'Algeria', 'Nepal', 'Mauritania', 'Croatia']\n",
    "\n",
    "#sentiment, 1 and recent\n",
    "sql_quiery = '''SELECT id\\\n",
    ", AVG(get_sentiment(text,title)) AS sentiment\\\n",
    ", COUNT(DISTINCT version) AS versions\n",
    ", SUM(get_recentReviews(date)) AS recent_reviews\\\n",
    ", COUNT(1) AS nb_reviews '''\n",
    "\n",
    "#languages expanded\n",
    "#Make the Gini and other post grouping predictors\n",
    "def get_gini(*args):\n",
    "    args = list(args)\n",
    "    tot = sum(args)\n",
    "    return sum([1.0*x / tot * (1 - 1.0*x / tot) for x in args])\n",
    "sqlCtx.registerFunction(\"get_gini\", get_gini,returnType=FloatType())\n",
    "\n",
    "#sql_quiery+=\",get_gini(0\"\n",
    "for l in list_languages:\n",
    "    sql_quiery+= ''' ,SUM(CASE WHEN (get_language(text) = \"'''+l+'''\") THEN 1 \\\n",
    "    ELSE 0 END )''' +\" AS \"+l.replace(\"-\",\"_\")\n",
    "#sql_quiery+=\" AS \"+l.replace(\"-\",\"_\")\n",
    "#sql_quiery+=\") AS gini_reviews \"  \n",
    "\n",
    "#Countries\n",
    "for c in list_countries:\n",
    "    sql_quiery+=''', SUM( CASE WHEN (escape(country) = \"'''+c+'''\") THEN 1 \\\n",
    "    ELSE 0 END) AS '''+c.replace(\"-\",\"_\")\n",
    "      \n",
    "sql_quiery +=''' FROM reviews GROUP BY id'''\n",
    "reviews=sqlCtx.sql(sql_quiery)\n",
    "\n",
    "\n",
    "#sqlCtx.registerDataFrameAsTable(reviews, \"reviews\")\n",
    "\n",
    "\n"
   ]
  },
  {
   "cell_type": "code",
   "execution_count": null,
   "metadata": {
    "collapsed": false,
    "scrolled": true
   },
   "outputs": [],
   "source": [
    "reviews.head(1)"
   ]
  },
  {
   "cell_type": "code",
   "execution_count": null,
   "metadata": {
    "collapsed": false
   },
   "outputs": [],
   "source": []
  },
  {
   "cell_type": "code",
   "execution_count": 2,
   "metadata": {
    "collapsed": false
   },
   "outputs": [
    {
     "data": {
      "text/plain": [
       "'-Xms512m -Xmx10g -XX:+UseConcMarkSweepGC -XX:-UseGCOverheadLimit'"
      ]
     },
     "execution_count": 2,
     "metadata": {},
     "output_type": "execute_result"
    }
   ],
   "source": [
    "os.environ[\"JAVA_OPTS\"]"
   ]
  },
  {
   "cell_type": "code",
   "execution_count": null,
   "metadata": {
    "collapsed": true
   },
   "outputs": [],
   "source": []
  }
 ],
 "metadata": {
  "kernelspec": {
   "display_name": "Python 2",
   "language": "python",
   "name": "python2"
  },
  "language_info": {
   "codemirror_mode": {
    "name": "ipython",
    "version": 2
   },
   "file_extension": ".py",
   "mimetype": "text/x-python",
   "name": "python",
   "nbconvert_exporter": "python",
   "pygments_lexer": "ipython2",
   "version": "2.7.11"
  }
 },
 "nbformat": 4,
 "nbformat_minor": 0
}
