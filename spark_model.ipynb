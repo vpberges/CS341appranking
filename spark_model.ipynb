{
 "cells": [
  {
   "cell_type": "markdown",
   "metadata": {},
   "source": [
    "#### Initial Setup"
   ]
  },
  {
   "cell_type": "code",
   "execution_count": null,
   "metadata": {
    "collapsed": false
   },
   "outputs": [],
   "source": [
    "#imported libraries\n",
    "import pandas as pd\n",
    "pd.set_option('display.max_rows', 500)\n",
    "pd.set_option('display.max_columns', 500)\n",
    "import boto\n",
    "import numpy as np\n",
    "from numpy import matlib\n",
    "import scipy as sp\n",
    "import math\n",
    "import matplotlib.pyplot as plt\n",
    "import langdetect\n",
    "import datetime\n",
    "%matplotlib inline  \n",
    "from sklearn.svm import SVR\n",
    "from sklearn import linear_model\n",
    "from sklearn.feature_selection import RFE\n",
    "from sklearn.svm import SVR\n",
    "from sklearn.cross_validation import KFold\n",
    "from sklearn.cross_validation import train_test_split\n",
    "from sklearn.ensemble import RandomForestRegressor\n",
    "from sklearn.ensemble import GradientBoostingRegressor\n",
    "from sklearn.preprocessing import Imputer\n",
    "\n",
    "import os\n",
    "import findspark; findspark.init()\n",
    "import pyspark\n",
    "from pyspark.sql.types import *\n",
    "from pyspark.sql.types import Row\n",
    "import pyspark.sql.functions as func\n",
    "from pyspark.mllib.tree import GradientBoostedTrees, GradientBoostedTreesModel\n",
    "from pyspark.mllib.util import MLUtils\n",
    "from pyspark.mllib.regression import LabeledPoint\n",
    "from pyspark.mllib.tree import DecisionTree\n",
    "from pyspark.mllib.util import MLUtils\n",
    "\n",
    "from pyspark.mllib.linalg import Vectors \n",
    "from pyspark.mllib.regression import LabeledPoint  \n",
    "from pyspark.mllib.regression import LinearRegressionWithSGD \n",
    "\n",
    "os.environ[\"PYSPARK_SUBMIT_ARGS\"] = (\n",
    "  \"--packages com.databricks:spark-csv_2.11:1.4.0 pyspark-shell\"\n",
    ")\n",
    "\n",
    "#NEED TO ADD \"  SPARK_DRIVER_MEMORY=5G   \"  to ./conf/spark-env.sh \n",
    "\n",
    "try:\n",
    "    sc = pyspark.SparkContext()\n",
    "except Exception as e:\n",
    "    print \"SparkContext exists... Continuing on.\"\n",
    "    \n",
    "sqlCtx = pyspark.sql.SQLContext(sc)\n",
    "sc.setCheckpointDir('checkpoint/')"
   ]
  },
  {
   "cell_type": "markdown",
   "metadata": {},
   "source": [
    "#### Load files"
   ]
  },
  {
   "cell_type": "code",
   "execution_count": null,
   "metadata": {
    "collapsed": true
   },
   "outputs": [],
   "source": [
    "sc._jsc.hadoopConfiguration().set(\"fs.s3n.awsAccessKeyId\", os.environ['AWS_ACCESS_KEY_ID'])\n",
    "sc._jsc.hadoopConfiguration().set(\"fs.s3n.awsSecretAccessKey\", os.environ['AWS_SECRET_ACCESS_KEY'])"
   ]
  },
  {
   "cell_type": "code",
   "execution_count": null,
   "metadata": {
    "collapsed": true
   },
   "outputs": [],
   "source": [
    "downloads = sqlCtx.read \\\n",
    "    .format('com.databricks.spark.csv') \\\n",
    "    .options(header='true',inferSchema='true') \\\n",
    "    .load('s3n://cs341bucket1/Data/train_app_downloads.csv').drop('')\n",
    "ratings = sqlCtx.read \\\n",
    "    .format('com.databricks.spark.csv') \\\n",
    "    .options(header='true',inferSchema='true') \\\n",
    "    .load('s3n://cs341bucket1/Data/train_app_rating.csv').drop('')\n",
    "usages = sqlCtx.read \\\n",
    "    .format('com.databricks.spark.csv') \\\n",
    "    .options(header='true',inferSchema='true') \\\n",
    "    .load('s3n://cs341bucket1/Data/train_usage.csv').drop('')\n",
    "revenues = sqlCtx.read \\\n",
    "    .format('com.databricks.spark.csv') \\\n",
    "    .options(header='true',inferSchema='true') \\\n",
    "    .load('s3n://cs341bucket1/Data/train_revenue.csv').drop('')\n",
    "output = sqlCtx.read \\\n",
    "    .format('com.databricks.spark.csv') \\\n",
    "    .options(header='true',inferSchema='true') \\\n",
    "    .load('s3n://cs341bucket1/Data/train_final_downloads.csv').drop('')\n",
    "prev_downloads = sqlCtx.read \\\n",
    "    .format('com.databricks.spark.csv') \\\n",
    "    .options(header='true',inferSchema='true') \\\n",
    "    .load('s3n://cs341bucket1/Data/train_cumulative_downloads_2015-02.csv').drop('')  \n",
    "release_date = sqlCtx.read \\\n",
    "    .format('com.databricks.spark.csv') \\\n",
    "    .options(header='true',inferSchema='true') \\\n",
    "    .load('s3n://cs341bucket1/Data/train_release_date.csv').drop('')\n",
    "text_score = sqlCtx.read \\\n",
    "    .format('com.databricks.spark.csv') \\\n",
    "    .options(header='false',inferSchema='true') \\\n",
    "    .load('s3n://cs341bucket1/Data/sentiment.csv').drop('')\n",
    "title_score = sqlCtx.read \\\n",
    "    .format('com.databricks.spark.csv') \\\n",
    "    .options(header='false',inferSchema='true') \\\n",
    "    .load('s3n://cs341bucket1/Data/t_sentiment.csv').drop('')\n",
    "avg_score = sqlCtx.read \\\n",
    "    .format('com.databricks.spark.csv') \\\n",
    "    .options(header='true',inferSchema='true') \\\n",
    "    .load('s3n://cs341bucket1/Data/avg_sent_score.csv').drop('')\n",
    "\n",
    "reviews_schema = StructType([\n",
    "    StructField(\"id\",IntegerType(),True),\n",
    "    StructField(\"name\",StringType(),True),\n",
    "    StructField(\"country\",StringType(),True),\n",
    "    StructField(\"rating\",IntegerType(),True),\n",
    "    StructField(\"date\",StringType(),True),\n",
    "    StructField(\"title\",StringType(),True),\n",
    "    StructField(\"version\",StringType(),True),\n",
    "    StructField(\"text\",StringType(),True),\n",
    "    StructField(\"reviewer\",StringType(),True)\n",
    "])\n",
    "reviews = pd.read_csv('s3://cs341bucket1/Data/train_app_review.csv')\n",
    "reviews = sqlCtx.createDataFrame(reviews,reviews_schema)"
   ]
  },
  {
   "cell_type": "code",
   "execution_count": null,
   "metadata": {
    "collapsed": false
   },
   "outputs": [],
   "source": [
    "#usage imputation\n",
    "imputer = Imputer(missing_values=-1, strategy='median', axis=0)\n",
    "pd_usages = usages.toPandas()\n",
    "category = list(set(pd_usages[\"category\"].values))\n",
    "imp = pd.DataFrame(columns = pd_usages.columns)\n",
    "for cat in category:\n",
    "    #for dev in [\"iphone\",\"ipad\"]:\n",
    "        for metric in range(1,5):\n",
    "            curr_df = pd_usages.ix[pd_usages[\"category\"]==cat,:]\n",
    "            #curr_df = curr_df.ix[curr_df[\"device\"]==dev,:]\n",
    "            curr_df = curr_df.ix[curr_df[\"metric\"]==metric,:]\n",
    "            name = curr_df.columns\n",
    "            df1 = curr_df.ix[:,0:6]\n",
    "            df2 = pd.DataFrame(imputer.fit_transform(curr_df.ix[:,6:]))\n",
    "            df2.index = df1.index\n",
    "            curr_df = pd.concat([df1,df2],axis = 1)\n",
    "            curr_df.columns = name \n",
    "            imp = pd.concat([imp,curr_df],axis = 0)\n",
    "usages = sqlCtx.createDataFrame(imp)\n",
    "\n",
    "#revenue imputation\n",
    "pd_revenues = revenues.toPandas()\n",
    "imp = pd.DataFrame(columns = revenues.columns)\n",
    "for cat in category:\n",
    "    for dev in [\"iphone\",\"ipad\"]:\n",
    "        #for metric in range(1,5):\n",
    "            curr_df = pd_revenues.ix[pd_revenues[\"category\"]==cat,:]\n",
    "            curr_df = curr_df.ix[curr_df[\"device\"]==dev,:]\n",
    "            #curr_df = curr_df.ix[curr_df[\"metric\"]==metric,:]\n",
    "            name = curr_df.columns\n",
    "            df1 = curr_df.ix[:,0:5]\n",
    "            df2 = pd.DataFrame(imputer.fit_transform(curr_df.ix[:,5:]))\n",
    "            df2.index = df1.index\n",
    "            curr_df = pd.concat([df1,df2],axis = 1)\n",
    "            curr_df.columns = name \n",
    "            imp = pd.concat([imp,curr_df],axis = 0)\n",
    "revenues = sqlCtx.createDataFrame(imp)\n",
    "\n"
   ]
  },
  {
   "cell_type": "markdown",
   "metadata": {},
   "source": [
    "#### Generate Predictors"
   ]
  },
  {
   "cell_type": "code",
   "execution_count": null,
   "metadata": {
    "collapsed": false
   },
   "outputs": [],
   "source": [
    "old_dateRange = pd.date_range('03/01/2015', periods=56).format(formatter=lambda x: x.strftime('%Y-%m-%d'))\n",
    "dateRange = pd.date_range('03/01/2015', periods=56).format(formatter=lambda x: x.strftime('%m_%d_%Y'))\n",
    "for d in range(56):\n",
    "    revenues = revenues.withColumnRenamed(old_dateRange[d],dateRange[d])\n",
    "    usages = usages.withColumnRenamed(old_dateRange[d],dateRange[d])\n",
    "    downloads = downloads.withColumnRenamed(old_dateRange[d],dateRange[d])  \n",
    "output = output.withColumnRenamed(\"cumulative_downloads_2016-02\",\"cumulative_downloads_2016_02\")\n",
    "prev_downloads = prev_downloads.withColumnRenamed(\"cumulative_downloads_2015-02\",\"cumulative_downloads_2015_02\")"
   ]
  },
  {
   "cell_type": "code",
   "execution_count": null,
   "metadata": {
    "collapsed": false
   },
   "outputs": [],
   "source": [
    "#Initialization\n",
    "predictors = downloads['id','name','category','device']"
   ]
  },
  {
   "cell_type": "code",
   "execution_count": null,
   "metadata": {
    "collapsed": false
   },
   "outputs": [],
   "source": []
  },
  {
   "cell_type": "code",
   "execution_count": null,
   "metadata": {
    "collapsed": false
   },
   "outputs": [],
   "source": [
    "# Generate the weekly downloads\n",
    "\n",
    "sqlCtx.registerDataFrameAsTable(downloads, \"downloads\")\n",
    "sqlCtx.registerDataFrameAsTable(usages, \"usages\")\n",
    "sqlCtx.registerDataFrameAsTable(revenues, \"revenues\")\n",
    "\n",
    "def get_log_week(*args):\n",
    "    args = [x if not (x==-1) else 0 for x in list(args)]\n",
    "    nb_0 = args.count(0)\n",
    "    if nb_0 == 7:\n",
    "        return 0\n",
    "    return math.log(1.0*sum(args)/(7-nb_0))\n",
    "sqlCtx.registerFunction(\"get_log_week\", get_log_week,returnType=FloatType())\n",
    "def get_download_sum(*args):\n",
    "    args = [x if not (x==-1) else 0 for x in list(args)]\n",
    "    return (1.0*sum(args))\n",
    "sqlCtx.registerFunction(\"get_download_sum\", get_download_sum,returnType=FloatType())\n",
    "\n",
    "predictors = sqlCtx.sql(\"SELECT id, name, category, device, \\\n",
    "           get_log_week(\"+ \",\".join(dateRange[0:7])+\") AS week_1 \\\n",
    "            ,get_log_week(\"+\",\".join(dateRange[7:14])+\") AS week_2 \\\n",
    "            ,get_log_week(\"+ \",\".join(dateRange[14:21])+\") AS week_3 \\\n",
    "           ,get_log_week(\"+\",\".join(dateRange[21:28])+\") AS week_4 \\\n",
    "           ,get_log_week(\"+\",\".join(dateRange[28:35])+\") AS week_5 \\\n",
    "           ,get_log_week(\"+\",\".join(dateRange[35:42])+\") AS week_6 \\\n",
    "           ,get_log_week(\"+\",\".join(dateRange[42:49])+\") AS week_7 \\\n",
    "           ,get_log_week(\"+\",\".join(dateRange[49:56])+\") AS week_8\\\n",
    "           ,get_download_sum(\"+ \",\".join(dateRange)+\") AS download_sum \\\n",
    "           from downloads\")\n",
    "sqlCtx.registerDataFrameAsTable(predictors, \"predictors\")\n",
    "\n",
    "#I workaround the error by this modification. \n",
    "#I don't know why I couldn't run the code before but this workaround gives the same result.\n",
    "#predictors = sqlCtx.sql(\"SELECT \"+', '.join(predictors.columns)+\", week_1+week_2+week_3+week_4+week_5+week_6+week_7+week_8 AS download_sum FROM predictors\")\n"
   ]
  },
  {
   "cell_type": "code",
   "execution_count": null,
   "metadata": {
    "collapsed": false
   },
   "outputs": [],
   "source": []
  },
  {
   "cell_type": "code",
   "execution_count": null,
   "metadata": {
    "collapsed": false
   },
   "outputs": [],
   "source": [
    "m1 = sqlCtx.sql(\"SELECT * FROM usages WHERE metric = 1\")\n",
    "m2 = sqlCtx.sql(\"SELECT * FROM usages WHERE metric = 2\")\n",
    "m3 = sqlCtx.sql(\"SELECT * FROM usages WHERE metric = 3\")\n",
    "m4 = sqlCtx.sql(\"SELECT * FROM usages WHERE metric = 4\")\n",
    "sqlCtx.registerDataFrameAsTable(m1,\"m1\")\n",
    "sqlCtx.registerDataFrameAsTable(m2,\"m2\")\n",
    "sqlCtx.registerDataFrameAsTable(m3,\"m3\")\n",
    "sqlCtx.registerDataFrameAsTable(m4,\"m4\")\n",
    "sqlCtx.registerDataFrameAsTable(avg_score,\"avg_score\")"
   ]
  },
  {
   "cell_type": "code",
   "execution_count": null,
   "metadata": {
    "collapsed": false
   },
   "outputs": [],
   "source": [
    "# Make coefficients\n",
    "\n",
    "def get_coefficients(*args):\n",
    "    #The first element of the list is the degree of the coefficient\n",
    "    args = [x if not (x==-1) else 0 for x in list(args)]\n",
    "    return  float(np.polyfit(range(56),np.cumsum(args[1:]),args[0])[0])\n",
    "    \n",
    "#Generate the step max and min \n",
    "def get_maxStep(maximum,*args):\n",
    "    args = [x if not (x==-1) else 0 for x in list(args)]\n",
    "    if (np.count_nonzero(args) == 0):\n",
    "        return 0\n",
    "    m = 0\n",
    "    for d in range(1,56):\n",
    "        if (args[d]!=0 and args[d-1]!=0):\n",
    "            c = (args[d]-args[d-1])\n",
    "            if (maximum and m < c):\n",
    "                m = c\n",
    "            if ( not maximum and m > c):\n",
    "                m = c\n",
    "    return m\n",
    "\n",
    "def get_std(*args):\n",
    "    args = [x if not (x==-1) else 0 for x in list(args)]\n",
    "    return float(np.std(list(args)))\n",
    "\n",
    "def get_nbMissing(*args):\n",
    "    return list(args).count(-1)\n",
    "\n",
    "#Generate the daily average\n",
    "def get_dailyAvg(*args):\n",
    "    args = [x if not (x==-1) else 0 for x in list(args)]\n",
    "    if (np.count_nonzero(args) == 0):\n",
    "        return 0\n",
    "    return  (1.0*sum(args)/np.count_nonzero(args))\n",
    "\n",
    "def get_usage_coefficients(*args):\n",
    "    #The first element of the list is the degree of the coefficient\n",
    "    args = list(args)\n",
    "    if -1 in args: return 0\n",
    "    return  float(np.polyfit(range(8),args[1:],args[0])[0])\n",
    "\n",
    "def get_revenue_coefficients(*args):\n",
    "    #The first element of the list is the degree of the coefficient\n",
    "    args = list(args)\n",
    "    if -1 in args: return 0\n",
    "    return  float(np.polyfit(range(56),args[1:],args[0])[0])\n",
    "\n",
    "def get_usage_max(*args):\n",
    "    #The first element of the list is the degree of the coefficient\n",
    "    args = list(args)\n",
    "    args = [c for c in args[1:] if c!=-1]\n",
    "    if len(args)==0: return 0\n",
    "    return  float(np.max(args))\n",
    "\n",
    "def get_usage_mean(*args):\n",
    "    #The first element of the list is the degree of the coefficient\n",
    "    args = list(args)\n",
    "    args = [c for c in args[1:] if c!=-1]\n",
    "    if len(args)==0: return 0\n",
    "    return  float(np.mean(args))\n",
    "\n",
    "def get_revenue_max(*args):\n",
    "    #The first element of the list is the degree of the coefficient\n",
    "    args = list(args)\n",
    "    args = [c for c in args[1:] if c!=-1]\n",
    "    if len(args)==0: return 0\n",
    "    return  float(np.max(args))\n",
    "\n",
    "def get_revenue_mean(*args):\n",
    "    #The first element of the list is the degree of the coefficient\n",
    "    args = list(args)\n",
    "    args = [c for c in args[1:] if c!=-1]\n",
    "    if len(args)==0: return 0\n",
    "    return  float(np.mean(args))\n",
    "\n",
    "sqlCtx.registerFunction(\"get_nbMissing\", get_nbMissing,returnType=IntegerType())\n",
    "sqlCtx.registerFunction(\"get_std\", get_std,returnType=FloatType())\n",
    "sqlCtx.registerFunction(\"get_maxStep\", get_maxStep,returnType=IntegerType())\n",
    "sqlCtx.registerFunction(\"get_coefficients\", get_coefficients,returnType=FloatType())\n",
    "sqlCtx.registerFunction(\"daily_avg\", get_dailyAvg,returnType=FloatType())\n",
    "sqlCtx.registerFunction(\"get_usage_coefficients\", get_usage_coefficients,returnType=FloatType())\n",
    "sqlCtx.registerFunction(\"get_revenue_coefficients\", get_revenue_coefficients,returnType=FloatType())\n",
    "sqlCtx.registerFunction(\"get_usage_max\", get_usage_max,returnType=FloatType())\n",
    "sqlCtx.registerFunction(\"get_usage_mean\", get_usage_mean,returnType=FloatType())\n",
    "sqlCtx.registerFunction(\"get_revenue_max\", get_revenue_max,returnType=FloatType())\n",
    "sqlCtx.registerFunction(\"get_revenue_mean\", get_revenue_mean,returnType=FloatType())\n",
    "\n",
    "temp_downloads = sqlCtx.sql(\"SELECT id,name,category, device \\\n",
    ", get_coefficients(0,\"+\",\".join(dateRange)+\") AS coef_0 \\\n",
    ",get_coefficients(1,\"+\",\".join(dateRange)+\") AS coef_1 \\\n",
    ",get_coefficients(2,\"+\",\".join(dateRange)+\") AS coef_2 \\\n",
    ",get_coefficients(3,\"+\",\".join(dateRange)+\") AS coef_3 \\\n",
    ",get_maxStep(True,\"+\",\".join(dateRange)+\") AS max_step \\\n",
    ",get_maxStep(False,\"+\",\".join(dateRange)+\") AS min_step \\\n",
    ",get_std(\"+\",\".join(dateRange)+\") AS downloads_std \\\n",
    ",get_nbMissing(\"+\",\".join(dateRange)+\") AS nb_missing \\\n",
    ",daily_avg(\" + \",\".join(dateRange[0:56]) + \") AS daily_avg \\\n",
    " FROM downloads\")\n",
    "\n",
    "temp_m1 = sqlCtx.sql(\"SELECT id, name, category, device, \\\n",
    "get_usage_coefficients(0,\"+\",\".join(m1.columns[5:13])+\") AS m1_coef_0, \\\n",
    "get_usage_coefficients(1,\"+\",\".join(m1.columns[5:13])+\") AS m1_coef_1, \\\n",
    "get_usage_coefficients(2,\"+\",\".join(m1.columns[5:13])+\") AS m1_coef_2, \\\n",
    "get_usage_max(0,\"+\",\".join(m1.columns[5:13])+\") AS m1_max, \\\n",
    "get_usage_mean(0,\"+\",\".join(m1.columns[5:13])+\") AS m1_mean FROM m1\")\n",
    "\n",
    "temp_m2 = sqlCtx.sql(\"SELECT id, name, category, device, \\\n",
    "get_usage_coefficients(0,\"+\",\".join(m2.columns[5:13])+\") AS m2_coef_0, \\\n",
    "get_usage_coefficients(1,\"+\",\".join(m2.columns[5:13])+\") AS m2_coef_1, \\\n",
    "get_usage_coefficients(2,\"+\",\".join(m2.columns[5:13])+\") AS m2_coef_2, \\\n",
    "get_usage_max(0,\"+\",\".join(m2.columns[5:13])+\") AS m2_max, \\\n",
    "get_usage_mean(0,\"+\",\".join(m2.columns[5:13])+\") AS m2_mean FROM m2\")\n",
    "\n",
    "temp_m3 = sqlCtx.sql(\"SELECT id, name, category, device, \\\n",
    "get_usage_coefficients(0,\"+\",\".join(m3.columns[5:13])+\") AS m3_coef_0, \\\n",
    "get_usage_coefficients(1,\"+\",\".join(m3.columns[5:13])+\") AS m3_coef_1, \\\n",
    "get_usage_coefficients(2,\"+\",\".join(m3.columns[5:13])+\") AS m3_coef_2, \\\n",
    "get_usage_max(0,\"+\",\".join(m3.columns[5:13])+\") AS m3_max, \\\n",
    "get_usage_mean(0,\"+\",\".join(m3.columns[5:13])+\") AS m3_mean FROM m3\")\n",
    "\n",
    "temp_m4 = sqlCtx.sql(\"SELECT id, name, category, device, \\\n",
    "get_usage_coefficients(0,\"+\",\".join(m4.columns[5:13])+\") AS m4_coef_0, \\\n",
    "get_usage_coefficients(1,\"+\",\".join(m4.columns[5:13])+\") AS m4_coef_1, \\\n",
    "get_usage_coefficients(2,\"+\",\".join(m4.columns[5:13])+\") AS m4_coef_2, \\\n",
    "get_usage_max(0,\"+\",\".join(m4.columns[5:13])+\") AS m4_max, \\\n",
    "get_usage_mean(0,\"+\",\".join(m4.columns[5:13])+\") AS m4_mean FROM m4\")\n",
    "\n",
    "temp_revenues = sqlCtx.sql(\"SELECT id, name, category, device, \\\n",
    "get_revenue_coefficients(0,\"+\",\".join(revenues.columns[4:])+\") AS rev_coef_0, \\\n",
    "get_revenue_coefficients(1,\"+\",\".join(revenues.columns[4:])+\") AS rev_coef_1, \\\n",
    "get_revenue_coefficients(2,\"+\",\".join(revenues.columns[4:])+\") AS rev_coef_2, \\\n",
    "get_revenue_max(0,\"+\",\".join(revenues.columns[4:])+\") AS rev_max, \\\n",
    "get_revenue_mean(0,\"+\",\".join(revenues.columns[4:])+\") AS rev_mean FROM revenues\")\n",
    "\n",
    "predictors = predictors.join(temp_downloads,[\"id\",\"name\",\"category\",\"device\"],how='left_outer')\n",
    "predictors = predictors.join(temp_revenues,[\"id\", \"name\", \"category\",\"device\"],how='left_outer')\n",
    "predictors = predictors.join(temp_m1,[\"id\", \"name\", \"category\",\"device\"],how='left_outer')\n",
    "predictors = predictors.join(temp_m2,[\"id\", \"name\", \"category\",\"device\"],how='left_outer')\n",
    "predictors = predictors.join(temp_m3,[\"id\", \"name\", \"category\",\"device\"],how='left_outer')\n",
    "predictors = predictors.join(temp_m4,[\"id\", \"name\", \"category\",\"device\"],how='left_outer')\n",
    "predictors = predictors.join(avg_score,[\"id\", \"name\", \"category\",\"device\"],how='left_outer')\n",
    "#predictors = predictors.join(temp_usages,[\"id\", \"name\", \"category\",\"device\"],how='left_outer')\n",
    "#predictors = predictors.join(,)\n",
    "\n"
   ]
  },
  {
   "cell_type": "code",
   "execution_count": null,
   "metadata": {
    "collapsed": false
   },
   "outputs": [],
   "source": [
    "# previous downloads addition\n",
    "predictors = predictors.join(prev_downloads,[\"id\",\"device\"],how='left_outer')"
   ]
  },
  {
   "cell_type": "code",
   "execution_count": null,
   "metadata": {
    "collapsed": false
   },
   "outputs": [],
   "source": []
  },
  {
   "cell_type": "code",
   "execution_count": null,
   "metadata": {
    "collapsed": false
   },
   "outputs": [],
   "source": [
    "# Days since release generation with imputation\n",
    "def get_days(date, id):\n",
    "    if date == \"no_date\":\n",
    "        # return 0\n",
    "        id = 1.0*id/100000000\n",
    "        return int(5856.25394104 -1731.74798728*id+195.553086*id**2  -8.12861635*id**3)\n",
    "    else:\n",
    "        return (datetime.datetime.strptime('03/01/2015', '%m/%d/%Y').date() \\\n",
    "            - datetime.datetime.strptime(date, '%Y-%m-%d').date()).days\n",
    "\n",
    "\n",
    "\n",
    "release_date = downloads[[\"id\"]].dropDuplicates().join(release_date,[\"id\"],\"left\").fillna(\"no_date\",[\"release_date\"])\n",
    "sqlCtx.registerDataFrameAsTable(release_date, \"release_date\")\n",
    "sqlCtx.registerFunction(\"get_days\", get_days,returnType=IntegerType())\n",
    "temp_date = sqlCtx.sql(\"SELECT id\\\n",
    ", get_days(release_date, id) AS days_since_release \\\n",
    " FROM release_date\")\n",
    "\n",
    "predictors = predictors.join(temp_date,[\"id\"],\"left\")"
   ]
  },
  {
   "cell_type": "code",
   "execution_count": null,
   "metadata": {
    "collapsed": false
   },
   "outputs": [],
   "source": []
  },
  {
   "cell_type": "code",
   "execution_count": null,
   "metadata": {
    "collapsed": false
   },
   "outputs": [],
   "source": [
    "#ratings generation\n",
    "sqlCtx.registerDataFrameAsTable(ratings, \"ratings\")\n",
    "temp_ratings = sqlCtx.sql(\"SELECT id,name,category \\\n",
    ", 1.0*start1/(start1+star2+star3+star4+star5) AS star1 \\\n",
    ", 1.0*star2/(start1+star2+star3+star4+star5) AS star2 \\\n",
    ", 1.0*star3/(start1+star2+star3+star4+star5) AS star3 \\\n",
    ", 1.0*star4/(start1+star2+star3+star4+star5) AS star4 \\\n",
    ", 1.0*star5/(start1+star2+star3+star4+star5) AS star5 \\\n",
    ", (start1+star2+star3+star4+star5) AS num_ratings \\\n",
    " FROM ratings\")\n",
    "\n",
    "predictors = predictors.join(temp_ratings,[\"id\",\"name\",\"category\"],\"left\")"
   ]
  },
  {
   "cell_type": "code",
   "execution_count": null,
   "metadata": {
    "collapsed": true
   },
   "outputs": [],
   "source": [
    "# Categories\n",
    "list_categories = [ x.category.replace(\" \",\"_\") for x in sqlCtx.sql(\"SELECT category \\\n",
    " FROM downloads\\\n",
    " group by category \\\n",
    " \").collect()]\n",
    "for cat in list_categories:\n",
    "    sqlCtx.registerDataFrameAsTable(predictors, \"predictors\")\n",
    "    predictors=sqlCtx.sql('''SELECT *, CASE WHEN (category = \"'''+cat+'''\") THEN 1 ELSE 0 END AS '''+cat+''' FROM predictors''')\n"
   ]
  },
  {
   "cell_type": "code",
   "execution_count": null,
   "metadata": {
    "collapsed": true
   },
   "outputs": [],
   "source": [
    "# Device\n",
    "sqlCtx.registerDataFrameAsTable(predictors, \"predictors\")\n",
    "predictors=sqlCtx.sql('''SELECT *, CASE WHEN (device = \"iphone\") THEN 1 ELSE 0 END AS iphone FROM predictors''')\n",
    "sqlCtx.registerDataFrameAsTable(predictors, \"predictors\")\n",
    "predictors=sqlCtx.sql('''SELECT *, CASE WHEN (device = \"ipad\") THEN 1 ELSE 0 END AS ipad FROM predictors''')"
   ]
  },
  {
   "cell_type": "code",
   "execution_count": null,
   "metadata": {
    "collapsed": true
   },
   "outputs": [],
   "source": [
    "lang = ['ja','zh-cn','ko','en','other']\n",
    "def get_language(x):\n",
    "    try:\n",
    "        detected = langdetect.detect_langs(x.decode('utf8','ignore'))[0]\n",
    "        if detected.prob < 0.7:\n",
    "            return \"other\"\n",
    "        elif  detected.lang in lang:\n",
    "            return detected.lang\n",
    "        else:\n",
    "            return \"other\"\n",
    "    except:\n",
    "        return \"other\"\n",
    "sqlCtx.registerFunction(\"get_language\", get_language,returnType=StringType())"
   ]
  },
  {
   "cell_type": "code",
   "execution_count": null,
   "metadata": {
    "collapsed": false
   },
   "outputs": [],
   "source": [
    "#Language of the title\n",
    "for l in lang:\n",
    "    sqlCtx.registerDataFrameAsTable(predictors, \"predictors\")\n",
    "    predictors=sqlCtx.sql('''SELECT *, CASE WHEN (get_language(name) = \"'''+l+'''\") THEN 1 \\\n",
    "    ELSE 0 END AS '''+l.replace(\"-\",\"_\")+''' FROM predictors''')"
   ]
  },
  {
   "cell_type": "code",
   "execution_count": null,
   "metadata": {
    "collapsed": false
   },
   "outputs": [],
   "source": []
  },
  {
   "cell_type": "code",
   "execution_count": null,
   "metadata": {
    "collapsed": false
   },
   "outputs": [],
   "source": [
    "#Reviews \n",
    "#escape is used in case some asshole used - or [space] anywhere\n",
    "def escape(text):\n",
    "    return text.replace(\" \",\"_\").replace(\"-\",\"_\")\n",
    "# number of reviews\n",
    "def get_recentReviews(date):\n",
    "    return int((datetime.datetime.strptime('04/01/2015', '%m/%d/%Y').date() \\\n",
    "            - datetime.datetime.strptime(date, '%Y-%m-%d').date()).days >=0)\n",
    "\n",
    "#First step\n",
    "list_countries =['United_States', 'France', 'Japan', 'Spain', 'United_Kingdom','Saudi_Arabia', 'Germany'\\\n",
    "     , 'Hong_Kong', 'Switzerland', 'Turkey','Netherlands', 'Australia', 'Norway', 'Sweden', 'China', 'Canada'\\\n",
    "     ,'Tanzania', 'Denmark', 'South_Korea', 'Italy', 'Finland', 'Taiwan','Russia', 'Philippines', 'Slovenia'\\\n",
    "     , 'Ireland', 'Belgium', 'Mexico','Austria', 'India', 'Brazil', 'Benin', 'New_Zealand','United_Arab_Emirates'\\\n",
    "     , 'Ukraine', 'Poland', 'Israel', 'Portugal','Tunisia', 'Mali', 'Slovakia', 'Zimbabwe', 'Thailand', 'Panama'\\\n",
    "     ,'Indonesia', 'Singapore', 'Greece', 'Senegal', 'Nicaragua','Hungary', 'Czech_Republic', 'Macedonia', 'Chile'\\\n",
    "     , 'Uruguay','Malaysia', 'Algeria', 'Nepal', 'Mauritania', 'Croatia']\n",
    "\n",
    "cmd = '''review_rdd = reviews\\\n",
    ".map(lambda x : (x.id , Row(id = x.id , avg_review = x.rating \\\n",
    ", recent_review = get_recentReviews(x.date), nb_review = 1\\\n",
    ",version = set([x.version])'''\n",
    "cmd+=\",country = set([x.country])\"\n",
    "#for c in list_countries:\n",
    "#    cmd+=\",\"+c+''' = int( escape(x.country) == \"'''+c+'''\")'''\n",
    "for i in range(1,6):\n",
    "    cmd+=\",review_rating_\"+str(i)+\" = int(x.rating == \"+str(i)+\")  \"\n",
    "cmd+=\")))\"\n",
    "exec cmd\n",
    "\n",
    "#Group step\n",
    "cmd = '''review_rdd = review_rdd.reduceByKey(lambda x1 ,x2 : Row(\\\n",
    " avg_review = x1.avg_review + x2.avg_review\\\n",
    "   ,recent_review = x1.recent_review + x2.recent_review, nb_review = x1.nb_review + x2.nb_review'''\n",
    "#for c in list_countries:\n",
    "#    cmd+=\" , \"+c+\" = x1.\"+c+\" + x2.\"+c\n",
    "cmd+=\", country = x1.country.union(x2.country)\"\n",
    "cmd+=\", version = x1.version.union(x2.version)\"\n",
    "for i in range(1,6):\n",
    "    cmd+=\", review_rating_\"+str(i)+\" = x1.review_rating_\"+str(i)+\" + x2.review_rating_\"+str(i)+\" \"\n",
    "cmd+=\"))\"\n",
    "exec cmd\n",
    "\n",
    "# Clean the grouped rdd\n",
    "cmd = '''review_rdd = review_rdd.map(lambda (id , x) : [ id \\\n",
    ",  1.0*x.avg_review /  x.nb_review\\\n",
    "   , x.recent_review,  x.nb_review'''\n",
    "#for c in list_countries:\n",
    "#    cmd+=\" , 1.0* x.\"+c+\"/ x.nb_review\"\n",
    "cmd+=\",  x.country.pop()\"\n",
    "cmd+=\",  len(x.version) \" # -1 if want number of updates\n",
    "for i in range(1,6):\n",
    "    cmd+=\", 1.0*x.review_rating_\"+str(i)+\" / x.nb_review\"\n",
    "cmd+=\"])\"\n",
    "exec cmd\n",
    "\n",
    "#Put back into dataframe\n",
    "grp_reviews = sqlCtx.createDataFrame(review_rdd, [\"id\",\"avg_review\"\\\n",
    "      ,\"recent_reviews\",\"nb_reviews\",\"country\",\"versions\"]+[\"review_rating_\"+str(i) for i in range(1,6)])\n",
    "    #,\"recent_reviews\",\"nb_reviews\"] + list_countries + [\"versions\"]+[\"review_rating_\"+str(i) for i in range(1,6)])\n",
    "    \n",
    "#Join with predictors \n",
    "predictors = predictors.join(grp_reviews,[\"id\"],\"left\").fillna(\"no_country\",[\"country\"])"
   ]
  },
  {
   "cell_type": "code",
   "execution_count": null,
   "metadata": {
    "collapsed": false,
    "scrolled": true
   },
   "outputs": [],
   "source": [
    "# Generate DL Projection\n",
    "sqlCtx.registerDataFrameAsTable(predictors, \"predictors\")\n",
    "derived_feats = sqlCtx.sql(\"SELECT id, device\\\n",
    "    ,CAST((7*download_sum+cumulative_downloads_2015_02) AS float ) AS dl_projection \\\n",
    "    ,CAST((1000000.0*num_ratings/(cumulative_downloads_2015_02 + download_sum))AS float )  AS ratings_per_downloads \\\n",
    "    ,CAST((1.0*num_ratings/(days_since_release+60))AS float )  AS ratings_per_day \\\n",
    "    ,CAST((1000000.0*nb_reviews/download_sum)AS float )  AS review_per_downloads \\\n",
    "    ,CAST((1.0*recent_reviews/nb_reviews)AS float )  AS review_recent_over_old \\\n",
    "    ,CAST((1.0*cumulative_downloads_2015_02/(days_since_release+1))AS float )  AS downloads_per_day_before \\\n",
    "    FROM predictors\")\n",
    "predictors = predictors.join(derived_feats,[\"id\",\"device\"],\"left\")\n",
    "\n",
    "#we could group by continent or use the market potential\n",
    "list_countries+=[\"no_country\"]\n",
    "#for co in list_countries:\n",
    "#    sqlCtx.registerDataFrameAsTable(predictors, \"predictors\")\n",
    "#    predictors=sqlCtx.sql('''SELECT *, CASE WHEN (country = \"'''+co+'''\") THEN 1 ELSE 0 END AS '''+co+''' FROM predictors''')\n",
    "def get_market(country,device):\n",
    "    #http://blog.nelso.com/2010/06/iphone-os-penetration-by-country.html\n",
    "    if device == \"iphone\":\n",
    "        return {\n",
    "            \"United_States\" : 10683403,\n",
    "            \"France\" : 2248817,\n",
    "            \"Japan\" : 1378903,\n",
    "            \"Spain\" : 377346,\n",
    "            \"United_Kingdom\" : 2551128,\n",
    "            \"Germany\" : 1117716,\n",
    "            \"Hong_Kong\" : 299720,\n",
    "            \"Switzerland\" : 399364,\n",
    "            \"Netherlands\" : 372539,\n",
    "            \"Australia\" : 1207428,\n",
    "            \"Norway\" : 154218,\n",
    "            \"Sweden\" : 281622,\n",
    "            \"China\" : 725358,\n",
    "            \"Canada\" : 919074,\n",
    "            \"Denmark\" : 151426,\n",
    "            \"Italy\" : 648718,\n",
    "            \"Taiwan\" : 174226,\n",
    "            \"Mexico\" : 215326,\n",
    "            \"Austria\" : 156322,\n",
    "            \"Brazil\" : 219339,\n",
    "            \"Poland\" : 72114,\n",
    "            \"Singapore\" : 402922,\n",
    "            \"Hungary\" : 33219,\n",
    "            \"Czech_Republic\" : 42753,\n",
    "            'South_Korea': 530235,\n",
    "            \"Russia\" :246421   \n",
    "    }.get(country, 0) \n",
    "    else:\n",
    "        return{\n",
    "            \"United_States\" : 223269,\n",
    "            \"France\" : 2724,\n",
    "            \"Japan\" : 2293,\n",
    "            \"Spain\" : 1494,\n",
    "            \"United_Kingdom\" : 4197,\n",
    "            \"Germany\" : 3403,\n",
    "            \"Hong_Kong\" : 2306,\n",
    "            \"Switzerland\" : 1698,\n",
    "            \"Netherlands\" : 2554,\n",
    "            \"Australia\" : 1400,\n",
    "            \"Norway\" : 1333,\n",
    "            \"Sweden\" : 1188,\n",
    "            \"China\" : 12516,\n",
    "            \"Canada\" : 6275,\n",
    "            \"Denmark\" : 753,\n",
    "            \"Italy\" : 1370,\n",
    "            \"Taiwan\" : 1356,\n",
    "            \"Mexico\" : 3380,\n",
    "            \"Austria\" : 493,\n",
    "            \"Brazil\" : 2014,\n",
    "            \"Poland\" : 324,\n",
    "            \"Singapore\" : 1453,\n",
    "            \"Hungary\" : 211,\n",
    "            \"Czech_Republic\" : 203,\n",
    "            'South_Korea': 2416,\n",
    "            \"Russia\" :2183\n",
    "        }.get(country, 0) \n",
    "    \n",
    "    \n",
    "    return 1\n",
    "sqlCtx.registerFunction(\"get_market\", get_market,returnType=IntegerType())\n",
    "\n",
    "sqlCtx.registerDataFrameAsTable(predictors, \"predictors\")\n",
    "    predictors=sqlCtx.sql('''SELECT *, get_market(country,device) AS market_size FROM predictors''')"
   ]
  },
  {
   "cell_type": "code",
   "execution_count": null,
   "metadata": {
    "collapsed": false
   },
   "outputs": [],
   "source": [
    "s"
   ]
  },
  {
   "cell_type": "code",
   "execution_count": null,
   "metadata": {
    "collapsed": false
   },
   "outputs": [],
   "source": [
    "predictors.cache()"
   ]
  },
  {
   "cell_type": "code",
   "execution_count": null,
   "metadata": {
    "collapsed": false
   },
   "outputs": [],
   "source": [
    "predictors.count()"
   ]
  },
  {
   "cell_type": "code",
   "execution_count": null,
   "metadata": {
    "collapsed": false
   },
   "outputs": [],
   "source": [
    "predictors.toPandas()"
   ]
  },
  {
   "cell_type": "code",
   "execution_count": null,
   "metadata": {
    "collapsed": false
   },
   "outputs": [],
   "source": [
    "\n",
    "predictors = predictors.fillna(0)"
   ]
  },
  {
   "cell_type": "code",
   "execution_count": null,
   "metadata": {
    "collapsed": false
   },
   "outputs": [],
   "source": [
    "predictors.toPandas().to_csv(\"predictors_spark.csv\", sep='\\t',encoding='utf-8')"
   ]
  },
  {
   "cell_type": "code",
   "execution_count": null,
   "metadata": {
    "collapsed": false
   },
   "outputs": [],
   "source": []
  },
  {
   "cell_type": "code",
   "execution_count": null,
   "metadata": {
    "collapsed": false
   },
   "outputs": [],
   "source": []
  },
  {
   "cell_type": "markdown",
   "metadata": {
    "collapsed": true
   },
   "source": [
    "#### ML  pipeline"
   ]
  },
  {
   "cell_type": "code",
   "execution_count": null,
   "metadata": {
    "collapsed": false
   },
   "outputs": [],
   "source": [
    "predictor_names = predictors.rdd.top(1)[0].asDict().keys()\n",
    "predictor_names.remove(\"name\")\n",
    "predictor_names.remove(\"id\")\n",
    "predictor_names.remove(\"category\")\n",
    "predictor_names.remove(\"device\")\n",
    "predictor_names.remove(\"country\")\n",
    "\n",
    "predictors_labelPoints = predictors.rdd\\\n",
    ".map(lambda x: ((x.id,x.device) ,x))\\\n",
    ".join(output.rdd.map(lambda x: ((x.id,x.device) ,x.cumulative_downloads_2016_02)))\\\n",
    ".map(lambda x : (x[0] , LabeledPoint(x[1][1], [x[1][0].asDict()[col] for col in predictor_names])))\n",
    "\n",
    "predictors_labelPoints.cache()\n",
    "predictors_labelPoints.top(1)"
   ]
  },
  {
   "cell_type": "code",
   "execution_count": null,
   "metadata": {
    "collapsed": false
   },
   "outputs": [],
   "source": [
    "def get_preformance_old(labelsAndPredictions):\n",
    "    total = labelsAndPredictions.count()\n",
    "    pred_threshold = labelsAndPredictions.takeOrdered(int(0.01*total),lambda x:-x.pred)[-1].pred\n",
    "    true_threshold = labelsAndPredictions.takeOrdered(int(0.01*total),lambda x:-x.true)[-1].true\n",
    "    pred_top = labelsAndPredictions.filter(lambda x: x.pred >= pred_threshold ).map(lambda x : ((x.id,x.device),1))\n",
    "    true_top = labelsAndPredictions.filter(lambda x: x.true >= true_threshold ).map(lambda x : ((x.id,x.device),1)) \n",
    "    \n",
    "    if pred_top.count() > total*0.01 : return -1\n",
    "    \n",
    "    return 10000.0*pred_top.join(true_top).count()/total\n",
    "\n",
    "\n",
    "def get_preformance(labelsAndPredictions):\n",
    "    total = labelsAndPredictions.count()\n",
    "    pred_top = labelsAndPredictions.takeOrdered(int(0.01*total),lambda x:-x.pred).map(lambda x : ((x.id,x.device),1))\n",
    "    true_top = labelsAndPredictions.takeOrdered(int(0.01*total),lambda x:-x.true).map(lambda x : ((x.id,x.device),1))\n",
    "    \n",
    "    if pred_top.count() > total*0.01 : return -1\n",
    "    \n",
    "    return 10000.0*pred_top.join(true_top).count()/total"
   ]
  },
  {
   "cell_type": "code",
   "execution_count": null,
   "metadata": {
    "collapsed": false
   },
   "outputs": [],
   "source": [
    "K = 5\n",
    "predictors_cvSplit = predictors_labelPoints.randomSplit([1.0/K] * K)\n",
    "\n",
    "for fold in range(K):\n",
    "    test_rdd = predictors_cvSplit[fold]\n",
    "    train_rdd = sc.union([predictors_cvSplit[i]  for i in range(K) if (i!= fold)])\n",
    "    \n",
    "    model = GradientBoostedTrees.trainRegressor(train_rdd.map(lambda x:x[1])\\\n",
    "                                ,categoricalFeaturesInfo={}\\\n",
    "                                                , numIterations=500\\\n",
    "                                               ,maxDepth=1\\\n",
    "                                               ,learningRate = 0.01)\n",
    "    \n",
    "    prediction = model.predict(test_rdd.map(lambda x:x[1].features))\n",
    "    labelsAndPredictions = test_rdd.map(lambda x: x[1].label)\\\n",
    "    .zip(prediction)\\\n",
    "    .zip(test_rdd.map(lambda x : x[0]))\\\n",
    "    .map(lambda (tuple_true_pred , tuple_id) :\\\n",
    "         Row(id = tuple_id[0], device = tuple_id[1] , pred = tuple_true_pred[1],true = tuple_true_pred[0]))\n",
    "    print get_preformance(labelsAndPredictions)\n",
    "    #print get_preformance_old(labelsAndPredictions)\n",
    "    \n",
    "    "
   ]
  },
  {
   "cell_type": "code",
   "execution_count": null,
   "metadata": {
    "collapsed": false
   },
   "outputs": [],
   "source": [
    "predictor_names"
   ]
  },
  {
   "cell_type": "code",
   "execution_count": null,
   "metadata": {
    "collapsed": false
   },
   "outputs": [],
   "source": [
    "   \n",
    "    \n",
    "\n",
    "print list(predictors.columns.values)\n",
    "np.random.seed(1)\n",
    "kf = KFold(len(predictors), n_folds=K)\n",
    "new_top = []\n",
    "for train, test in kf:\n",
    "\n",
    "    old_mod=linear_model.LinearRegression(fit_intercept=False).fit(predictors.as_matrix()[train,4:12], output.as_matrix()[train,5])\n",
    "    y_pred =  old_mod.predict(predictors.as_matrix()[test,4:12])\n",
    "\n",
    "\n",
    "    #model\n",
    "    #mod=linear_model.LinearRegression(fit_intercept=False)\\ \n",
    "    #mod=linear_model.Lasso(alpha=100,fit_intercept=False)\\\n",
    "    #mod = GradientBoostingRegressor(n_estimators=100, learning_rate=0.1,max_depth=1, random_state=0, loss='ls')\\ \n",
    "    #mod= RandomForestRegressor(max_features = 1.0/3.0,n_estimators = 100)\\\n",
    "    #mod= RandomForestRegressor(max_features = 'sqrt',n_estimators = 100)\\\n",
    "    \n",
    "    #mod = GradientBoostingRegressor(n_estimators=1000, learning_rate=0.01,max_depth=2, random_state=0, loss='ls')\\\n",
    "    #.fit(predictors.as_matrix()[train,4:], output.as_matrix()[train,5]) \n",
    "\n",
    "    #y_pred =  mod.predict(predictors.as_matrix()[test,4:])\n",
    "    new_top.append(metric(y_pred,output.as_matrix()[test,5]))\n",
    "\n",
    "print 1.0*sum(new_top)/len(new_top)"
   ]
  },
  {
   "cell_type": "code",
   "execution_count": null,
   "metadata": {
    "collapsed": false
   },
   "outputs": [],
   "source": [
    "predictor_names"
   ]
  },
  {
   "cell_type": "code",
   "execution_count": null,
   "metadata": {
    "collapsed": false
   },
   "outputs": [],
   "source": [
    "LabeledPoint(1,[2])"
   ]
  },
  {
   "cell_type": "code",
   "execution_count": null,
   "metadata": {
    "collapsed": false
   },
   "outputs": [],
   "source": []
  },
  {
   "cell_type": "code",
   "execution_count": null,
   "metadata": {
    "collapsed": true
   },
   "outputs": [],
   "source": [
    "#Use something like this in the classification step\n",
    "def even(x): return x % 2 == 0\n",
    "def odd(x): return not even(x)\n",
    "rdd = sc.parallelize(range(20))\n",
    "\n",
    "rdd_odd, rdd_even = (rdd.filter(f) for f in (odd, even))"
   ]
  },
  {
   "cell_type": "markdown",
   "metadata": {},
   "source": [
    "## To Pandas\n"
   ]
  },
  {
   "cell_type": "code",
   "execution_count": null,
   "metadata": {
    "collapsed": true
   },
   "outputs": [],
   "source": [
    "predictors_df = predictors"
   ]
  },
  {
   "cell_type": "code",
   "execution_count": null,
   "metadata": {
    "collapsed": false
   },
   "outputs": [],
   "source": [
    "\n",
    "predictors_pd = pd.read_csv('predictors_spark.csv',sep='\\t').drop('Unnamed: 0', 1).fillna(0)\n",
    "\n",
    "\n",
    "numerical_predictors = list(predictors_pd.columns.values)\n",
    "numerical_predictors.remove(\"id\");numerical_predictors.remove(\"device\");\n",
    "numerical_predictors.remove(\"category\");numerical_predictors.remove(\"name\");\n",
    "numerical_predictors.remove(\"country\");\n",
    "\n",
    "predictors_id = predictors_pd[[\"id\",\"device\"]].as_matrix()\n",
    "\n",
    "predictors_matrix = predictors_pd[numerical_predictors].as_matrix()\n",
    "\n",
    "output_pd = pd.merge(predictors_pd,output.toPandas(),on = [\"id\",\"device\"],how=\"left\")\\\n",
    "[[\"id\",\"device\", \"cumulative_downloads_2016_02\"]]\n",
    "output_matrix = output_pd[\"cumulative_downloads_2016_02\"].as_matrix()\n",
    "\n",
    "#predictors_matrix"
   ]
  },
  {
   "cell_type": "code",
   "execution_count": null,
   "metadata": {
    "collapsed": true
   },
   "outputs": [],
   "source": [
    "#This is the metric we use to determine our performance\n",
    "def metric(y_pred,y_test,percent=1):\n",
    "    top = int(len(y_pred)/100.0*percent)\n",
    "    return (len(set([i[0] for i in sorted(enumerate(y_pred), key=lambda x:x[1],reverse=True)][0:top])\n",
    "       .intersection([i[0] for i in sorted(enumerate(y_test), key=lambda x:x[1],reverse=True)][0:top])\n",
    "               ))/(percent/100.0)/len(y_pred)*100"
   ]
  },
  {
   "cell_type": "code",
   "execution_count": null,
   "metadata": {
    "collapsed": false
   },
   "outputs": [],
   "source": [
    "output.head(1)"
   ]
  },
  {
   "cell_type": "code",
   "execution_count": null,
   "metadata": {
    "collapsed": true
   },
   "outputs": [],
   "source": [
    "old_predictors = pd.read_csv('predictors.csv').drop('Unnamed: 0', 1).fillna(0)\\\n",
    ".rename(columns={'maxStep': 'max_step', 'minStep': 'min_step','std':'downloads_std','Health and Fitness':'Health_and_Fitness'\\\n",
    "                ,'versions':'num_versions' })"
   ]
  },
  {
   "cell_type": "code",
   "execution_count": null,
   "metadata": {
    "collapsed": false
   },
   "outputs": [],
   "source": [
    "old_list = list(old_predictors.columns.values)\n",
    "new_list = (predictors_pd.columns.values)\n",
    "print old_list"
   ]
  },
  {
   "cell_type": "code",
   "execution_count": null,
   "metadata": {
    "collapsed": false
   },
   "outputs": [],
   "source": [
    "for n in new_list:\n",
    "    try:\n",
    "        print str(n) + \" : \"+str((sum(np.absolute(predictors_pd.sort_values([\"id\",\"device\"])[n].as_matrix()\\\n",
    "                                                 -old_predictors.sort_values([\"id\",\"device\"])[n].as_matrix())))\\\n",
    "                                /sum(np.absolute(predictors_pd.sort_values([\"id\",\"device\"])[n].as_matrix())))\n",
    "    except:\n",
    "        print \"error on: \"+str(n)\n",
    "            "
   ]
  },
  {
   "cell_type": "code",
   "execution_count": null,
   "metadata": {
    "collapsed": false
   },
   "outputs": [],
   "source": []
  },
  {
   "cell_type": "code",
   "execution_count": null,
   "metadata": {
    "collapsed": false
   },
   "outputs": [],
   "source": [
    "\n",
    "K = 5\n",
    "print list(predictors_pd.columns.values)\n",
    "np.random.seed(1)\n",
    "kf = KFold(len(predictors_pd), n_folds=K)\n",
    "new_top = []\n",
    "for train, test in kf:\n",
    "\n",
    "    #old_mod=linear_model.LinearRegression(fit_intercept=False).fit(predictors.as_matrix()[train,4:12].astype(float), output['cumulative_downloads_2016-02'].as_matrix()[train])\n",
    "    #y_pred =  old_mod.predict(predictors.as_matrix()[test,4:12])\n",
    "\n",
    "\n",
    "    #model\n",
    "    #mod=linear_model.LinearRegression(fit_intercept=False)\\ \n",
    "    #mod=linear_model.Lasso(alpha=100,fit_intercept=False)\\\n",
    "    #mod = GradientBoostingRegressor(n_estimators=100, learning_rate=0.1,max_depth=1, random_state=0, loss='ls')\\ \n",
    "    #mod= RandomForestRegressor(max_features = 1.0/3.0,n_estimators = 100)\\\n",
    "    #mod= RandomForestRegressor(max_features = 'sqrt',n_estimators = 100)\\\n",
    "    \n",
    "    mod = GradientBoostingRegressor(n_estimators=1000, learning_rate=0.01,max_depth=2, random_state=0, loss='ls')\\\n",
    "    .fit(predictors_matrix[train].astype(float), np.log(output_matrix[train]) )\n",
    "\n",
    "    y_pred = mod.predict(predictors_matrix[test].astype(float))\n",
    "    err = (metric(y_pred,output_matrix[test]))\n",
    "    new_top.append(err)\n",
    "    print err\n",
    "\n",
    "print 1.0*sum(new_top)/len(new_top)"
   ]
  },
  {
   "cell_type": "code",
   "execution_count": null,
   "metadata": {
    "collapsed": false
   },
   "outputs": [],
   "source": []
  },
  {
   "cell_type": "code",
   "execution_count": null,
   "metadata": {
    "collapsed": false
   },
   "outputs": [],
   "source": []
  },
  {
   "cell_type": "code",
   "execution_count": null,
   "metadata": {
    "collapsed": false
   },
   "outputs": [],
   "source": []
  },
  {
   "cell_type": "code",
   "execution_count": null,
   "metadata": {
    "collapsed": false
   },
   "outputs": [],
   "source": []
  },
  {
   "cell_type": "code",
   "execution_count": null,
   "metadata": {
    "collapsed": false
   },
   "outputs": [],
   "source": []
  },
  {
   "cell_type": "code",
   "execution_count": null,
   "metadata": {
    "collapsed": false
   },
   "outputs": [],
   "source": []
  },
  {
   "cell_type": "code",
   "execution_count": null,
   "metadata": {
    "collapsed": false
   },
   "outputs": [],
   "source": []
  },
  {
   "cell_type": "code",
   "execution_count": null,
   "metadata": {
    "collapsed": false
   },
   "outputs": [],
   "source": [
    "plt.scatter(predictors_pd[predictors_pd.days_since_release != 0].sort_values([\"id\",\"device\"])[\"id\"].as_matrix()\\\n",
    "     ,predictors_pd[predictors_pd.days_since_release != 0].sort_values([\"id\",\"device\"])[\"days_since_release\"].as_matrix()\n",
    "           )"
   ]
  },
  {
   "cell_type": "code",
   "execution_count": null,
   "metadata": {
    "collapsed": false
   },
   "outputs": [],
   "source": [
    "temp = 3\n",
    "\n",
    "train_days = np.power(\\\n",
    "                      np.matlib.repmat(predictors_pd[predictors_pd.days_since_release != 0]\\\n",
    "                              .sort_values([\"id\",\"device\"])[[\"id\"]].as_matrix()*1.0/100000000,1,temp+1),np.array(range(temp+1)))\n",
    "\n",
    "test_days = predictors_pd[predictors_pd.days_since_release != 0]\\\n",
    "                              .sort_values([\"id\",\"device\"])[[\"days_since_release\"]].as_matrix()\n",
    "    \n",
    "day_mod=linear_model.LinearRegression(fit_intercept=False).fit(train_days,test_days )\n",
    "\n",
    "plt.scatter(np.concatenate((train_days[:,1],train_days[:,1])), \\\n",
    "        np.concatenate((test_days[:,0],np.sum(np.dot(train_days,\\\n",
    "          np.diag(day_mod.coef_[0,:])),axis=1))),\\\n",
    "       c=np.concatenate((np.ones(len(train_days)),2*np.ones(len(train_days)))),\\\n",
    "       alpha=.1)\n",
    "\n",
    "print day_mod.coef_"
   ]
  },
  {
   "cell_type": "code",
   "execution_count": null,
   "metadata": {
    "collapsed": false
   },
   "outputs": [],
   "source": [
    "day_mod=linear_model.LinearRegression(fit_intercept=False).fit(train_days,test_days )"
   ]
  },
  {
   "cell_type": "code",
   "execution_count": null,
   "metadata": {
    "collapsed": false
   },
   "outputs": [],
   "source": [
    "day_mod.coef_\n"
   ]
  },
  {
   "cell_type": "code",
   "execution_count": null,
   "metadata": {
    "collapsed": false
   },
   "outputs": [],
   "source": [
    "plt.scatter(np.concatenate((train_days[:,1],train_days[:,1])), \\\n",
    "            np.concatenate((test_days[:,0],np.sum(np.dot(train_days,\\\n",
    "              np.diag(day_mod.coef_[0,:])),axis=1))),\\\n",
    "           c=np.concatenate((np.ones(len(train_days)),2*np.ones(len(train_days)))),\\\n",
    "           alpha=.1)"
   ]
  },
  {
   "cell_type": "code",
   "execution_count": null,
   "metadata": {
    "collapsed": false
   },
   "outputs": [],
   "source": [
    "np.sum(np.dot(train_days,np.diag([  1.73879033e-24,  -8.16149354e-06,   4.19123763e-15,\\\n",
    "         -2.24536991e-16,  -2.24586827e-16])),axis=1)"
   ]
  },
  {
   "cell_type": "code",
   "execution_count": null,
   "metadata": {
    "collapsed": false
   },
   "outputs": [],
   "source": [
    "np.concatenate((test_days[:,0],np.sum(np.dot(train_days,\\\n",
    "              np.diag([  1.73879033e-24,  -8.16149354e-06,   4.19123763e-15,\\\n",
    "         -2.24536991e-16,  -2.24586827e-16])),axis=1))) "
   ]
  },
  {
   "cell_type": "code",
   "execution_count": null,
   "metadata": {
    "collapsed": false
   },
   "outputs": [],
   "source": [
    "(np.ones(len(train_days)),2*np.ones(len(train_days)))"
   ]
  },
  {
   "cell_type": "code",
   "execution_count": null,
   "metadata": {
    "collapsed": false
   },
   "outputs": [],
   "source": [
    "np.transpose(test_days)"
   ]
  },
  {
   "cell_type": "code",
   "execution_count": null,
   "metadata": {
    "collapsed": false
   },
   "outputs": [],
   "source": [
    "np.concatenate((train_days[:,1],train_days[:,1]))"
   ]
  },
  {
   "cell_type": "code",
   "execution_count": null,
   "metadata": {
    "collapsed": false
   },
   "outputs": [],
   "source": [
    "train_days[0,:]"
   ]
  },
  {
   "cell_type": "code",
   "execution_count": null,
   "metadata": {
    "collapsed": true
   },
   "outputs": [],
   "source": [
    "train_days = np.power(\\\n",
    "                      np.matlib.repmat(predictors_pd[predictors_pd.days_since_release != 0]\\\n",
    "                              .sort_values([\"id\",\"device\"])[[\"id\"]].as_matrix()*1.0/100000000,1,temp+1),np.array(range(temp+1)))"
   ]
  },
  {
   "cell_type": "code",
   "execution_count": null,
   "metadata": {
    "collapsed": false
   },
   "outputs": [],
   "source": [
    "281704574**3"
   ]
  },
  {
   "cell_type": "code",
   "execution_count": null,
   "metadata": {
    "collapsed": false
   },
   "outputs": [],
   "source": [
    "predictors_pd.sort_values([\"id\",\"device\"])[[\"nb_reviews\",\"cumulative_downloads_2015_02\",\"review_per_downloads\",\"review_per_day\"]]"
   ]
  },
  {
   "cell_type": "code",
   "execution_count": null,
   "metadata": {
    "collapsed": false
   },
   "outputs": [],
   "source": [
    "old_predictors.sort_values([\"id\",\"device\"])[[\"num_review\",\"cumulative_downloads_2015-02\",\"review_per_downloads\"]]"
   ]
  },
  {
   "cell_type": "code",
   "execution_count": null,
   "metadata": {
    "collapsed": false
   },
   "outputs": [],
   "source": [
    "predictors_pd"
   ]
  },
  {
   "cell_type": "code",
   "execution_count": null,
   "metadata": {
    "collapsed": true
   },
   "outputs": [],
   "source": []
  },
  {
   "cell_type": "code",
   "execution_count": null,
   "metadata": {
    "collapsed": true
   },
   "outputs": [],
   "source": []
  },
  {
   "cell_type": "code",
   "execution_count": null,
   "metadata": {
    "collapsed": true
   },
   "outputs": [],
   "source": []
  },
  {
   "cell_type": "code",
   "execution_count": null,
   "metadata": {
    "collapsed": false
   },
   "outputs": [],
   "source": [
    "mem = pd.read_csv('../iphones_per_country.csv').fillna(0)\n"
   ]
  },
  {
   "cell_type": "code",
   "execution_count": null,
   "metadata": {
    "collapsed": false
   },
   "outputs": [],
   "source": [
    "int(mem[mem.Country == \"Mexico\"][\"iPhone\"])"
   ]
  },
  {
   "cell_type": "code",
   "execution_count": null,
   "metadata": {
    "collapsed": false
   },
   "outputs": [],
   "source": [
    "mem[\"Country\"]"
   ]
  },
  {
   "cell_type": "code",
   "execution_count": null,
   "metadata": {
    "collapsed": false
   },
   "outputs": [],
   "source": [
    "int(mem[mem.Country == \"Mexico\"][\"iPhone\"])"
   ]
  },
  {
   "cell_type": "code",
   "execution_count": null,
   "metadata": {
    "collapsed": false
   },
   "outputs": [],
   "source": [
    "s=[]\n",
    "for l in list_countries:\n",
    "    try:\n",
    "        print '''\"'''+l+'''\" : '''+str(int(mem[mem.Country == l.replace(\"_\",\" \")][\"iPad\"]))+\",\"\n",
    "    except:\n",
    "        s.append(l)\n",
    "        t+=1\n",
    "print s\n"
   ]
  },
  {
   "cell_type": "code",
   "execution_count": null,
   "metadata": {
    "collapsed": true
   },
   "outputs": [],
   "source": []
  }
 ],
 "metadata": {
  "kernelspec": {
   "display_name": "Python 2",
   "language": "python",
   "name": "python2"
  },
  "language_info": {
   "codemirror_mode": {
    "name": "ipython",
    "version": 2
   },
   "file_extension": ".py",
   "mimetype": "text/x-python",
   "name": "python",
   "nbconvert_exporter": "python",
   "pygments_lexer": "ipython2",
   "version": "2.7.11"
  }
 },
 "nbformat": 4,
 "nbformat_minor": 0
}
