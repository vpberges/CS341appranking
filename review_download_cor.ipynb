{
 "cells": [
  {
   "cell_type": "code",
   "execution_count": 2,
   "metadata": {
    "collapsed": false,
    "scrolled": false
   },
   "outputs": [
    {
     "name": "stdout",
     "output_type": "stream",
     "text": [
      "Reading reviews\n"
     ]
    }
   ],
   "source": [
    "import pandas as pd\n",
    "import numpy as np\n",
    "import matplotlib.pyplot as plt\n",
    "import math\n",
    "\n",
    "print \"Reading reviews\"\n",
    "reviews = pd.read_csv(\"train_app_review.csv\");\n",
    "%matplotlib inline\n",
    "downloads = pd.read_csv(\"train_final_downloads.csv\");\n",
    "downloads = downloads.set_index('id');"
   ]
  },
  {
   "cell_type": "markdown",
   "metadata": {},
   "source": [
    "The cumulative sum of stars an app has plotted against the number of downloads. Quite a bit of noise here just from the huge number of apps.\n",
    "TODO: find out where the missing 4000 apps went. Probably due to them disappearing from not having any reviews. Need to fill in."
   ]
  },
  {
   "cell_type": "code",
   "execution_count": 3,
   "metadata": {
    "collapsed": false,
    "scrolled": false
   },
   "outputs": [
    {
     "data": {
      "image/png": "[encoded data removed]",
      "text/plain": [
       "<matplotlib.figure.Figure at 0x10e915610>"
      ]
     },
     "metadata": {},
     "output_type": "display_data"
    }
   ],
   "source": [
    "result_downloads = downloads.join(reviews.groupby('id').agg('sum'));\n",
    "top_one = result_downloads.sort_values('cumulative_downloads_2016-02', ascending=False).iloc[:300]\n",
    "totals = pd.cut(result_downloads['rating'],np.arange(0,50000,2500), labels=np.arange(0,47500,2500)).value_counts()\n",
    "success = pd.cut(top_one['rating'],np.arange(0,50000,2500), labels=np.arange(0,47500,2500)).value_counts()\n",
    "relative_success_df = pd.DataFrame({'percent':success/totals, 'success':success, 'total':totals})\n",
    "relative_success_df\n",
    "rel_plot = relative_success_df['percent'].plot(kind='bar')\n",
    "rel_plot.set_ylim([0,1]);"
   ]
  },
  {
   "cell_type": "markdown",
   "metadata": {},
   "source": [
    "By normalizing the reviews (-2 to 2 rather than 1 to 5), we start to get more predictable results as to how strong of an indicator "
   ]
  },
  {
   "cell_type": "code",
   "execution_count": 4,
   "metadata": {
    "collapsed": false,
    "scrolled": true
   },
   "outputs": [
    {
     "data": {
      "image/png": "[encoded data removed]",
      "text/plain": [
       "<matplotlib.figure.Figure at 0x10fc4c0d0>"
      ]
     },
     "metadata": {},
     "output_type": "display_data"
    }
   ],
   "source": [
    "normalized_reviews = reviews.copy();\n",
    "normalized_reviews['rating'] = normalized_reviews['rating'] - 3\n",
    "normalized_downloads = downloads.sort_values('cumulative_downloads_2016-02', ascending=False).join(normalized_reviews.groupby('id').agg('sum'));\n",
    "normalized_downloads\n",
    "normalized_top_one = normalized_downloads.sort_values('cumulative_downloads_2016-02', ascending=False).iloc[:300]\n",
    "normalized_totals = pd.cut(normalized_downloads['rating'],np.arange(-4000,40000,2000), labels=np.arange(-4000,38000,2000)).value_counts()\n",
    "normalized_success = pd.cut(normalized_top_one['rating'],np.arange(-4000,40000,2000), labels=np.arange(-4000,38000,2000)).value_counts()\n",
    "normalized_success_df = pd.DataFrame({'percent':normalized_success/normalized_totals, 'success':normalized_success, 'total':normalized_totals})\n",
    "norm_plot = normalized_success_df['percent'].plot(kind='bar')\n",
    "norm_plot.set_ylim([0,1]);"
   ]
  },
  {
   "cell_type": "code",
   "execution_count": 253,
   "metadata": {
    "collapsed": false
   },
   "outputs": [
    {
     "data": {
      "text/html": [
       "<div>\n",
       "<table border=\"1\" class=\"dataframe\">\n",
       "  <thead>\n",
       "    <tr style=\"text-align: right;\">\n",
       "      <th></th>\n",
       "      <th>percent</th>\n",
       "      <th>success</th>\n",
       "      <th>total</th>\n",
       "    </tr>\n",
       "  </thead>\n",
       "  <tbody>\n",
       "    <tr>\n",
       "      <th>-4000</th>\n",
       "      <td>0.000000</td>\n",
       "      <td>0</td>\n",
       "      <td>3</td>\n",
       "    </tr>\n",
       "    <tr>\n",
       "      <th>-2000</th>\n",
       "      <td>0.008202</td>\n",
       "      <td>72</td>\n",
       "      <td>8778</td>\n",
       "    </tr>\n",
       "    <tr>\n",
       "      <th>0</th>\n",
       "      <td>0.015437</td>\n",
       "      <td>185</td>\n",
       "      <td>11984</td>\n",
       "    </tr>\n",
       "    <tr>\n",
       "      <th>2000</th>\n",
       "      <td>0.110390</td>\n",
       "      <td>17</td>\n",
       "      <td>154</td>\n",
       "    </tr>\n",
       "    <tr>\n",
       "      <th>4000</th>\n",
       "      <td>0.153846</td>\n",
       "      <td>8</td>\n",
       "      <td>52</td>\n",
       "    </tr>\n",
       "    <tr>\n",
       "      <th>6000</th>\n",
       "      <td>0.071429</td>\n",
       "      <td>2</td>\n",
       "      <td>28</td>\n",
       "    </tr>\n",
       "    <tr>\n",
       "      <th>8000</th>\n",
       "      <td>0.300000</td>\n",
       "      <td>3</td>\n",
       "      <td>10</td>\n",
       "    </tr>\n",
       "    <tr>\n",
       "      <th>10000</th>\n",
       "      <td>0.333333</td>\n",
       "      <td>3</td>\n",
       "      <td>9</td>\n",
       "    </tr>\n",
       "    <tr>\n",
       "      <th>12000</th>\n",
       "      <td>0.000000</td>\n",
       "      <td>0</td>\n",
       "      <td>2</td>\n",
       "    </tr>\n",
       "    <tr>\n",
       "      <th>14000</th>\n",
       "      <td>0.000000</td>\n",
       "      <td>0</td>\n",
       "      <td>5</td>\n",
       "    </tr>\n",
       "    <tr>\n",
       "      <th>16000</th>\n",
       "      <td>0.250000</td>\n",
       "      <td>1</td>\n",
       "      <td>4</td>\n",
       "    </tr>\n",
       "    <tr>\n",
       "      <th>18000</th>\n",
       "      <td>0.000000</td>\n",
       "      <td>0</td>\n",
       "      <td>4</td>\n",
       "    </tr>\n",
       "    <tr>\n",
       "      <th>20000</th>\n",
       "      <td>0.000000</td>\n",
       "      <td>0</td>\n",
       "      <td>3</td>\n",
       "    </tr>\n",
       "    <tr>\n",
       "      <th>22000</th>\n",
       "      <td>0.000000</td>\n",
       "      <td>0</td>\n",
       "      <td>1</td>\n",
       "    </tr>\n",
       "    <tr>\n",
       "      <th>24000</th>\n",
       "      <td>NaN</td>\n",
       "      <td>0</td>\n",
       "      <td>0</td>\n",
       "    </tr>\n",
       "    <tr>\n",
       "      <th>26000</th>\n",
       "      <td>0.500000</td>\n",
       "      <td>1</td>\n",
       "      <td>2</td>\n",
       "    </tr>\n",
       "    <tr>\n",
       "      <th>28000</th>\n",
       "      <td>NaN</td>\n",
       "      <td>0</td>\n",
       "      <td>0</td>\n",
       "    </tr>\n",
       "    <tr>\n",
       "      <th>30000</th>\n",
       "      <td>0.000000</td>\n",
       "      <td>0</td>\n",
       "      <td>1</td>\n",
       "    </tr>\n",
       "    <tr>\n",
       "      <th>32000</th>\n",
       "      <td>0.000000</td>\n",
       "      <td>0</td>\n",
       "      <td>1</td>\n",
       "    </tr>\n",
       "    <tr>\n",
       "      <th>34000</th>\n",
       "      <td>NaN</td>\n",
       "      <td>0</td>\n",
       "      <td>0</td>\n",
       "    </tr>\n",
       "    <tr>\n",
       "      <th>36000</th>\n",
       "      <td>NaN</td>\n",
       "      <td>0</td>\n",
       "      <td>0</td>\n",
       "    </tr>\n",
       "  </tbody>\n",
       "</table>\n",
       "</div>"
      ],
      "text/plain": [
       "         percent  success  total\n",
       "-4000   0.000000        0      3\n",
       "-2000   0.008202       72   8778\n",
       " 0      0.015437      185  11984\n",
       " 2000   0.110390       17    154\n",
       " 4000   0.153846        8     52\n",
       " 6000   0.071429        2     28\n",
       " 8000   0.300000        3     10\n",
       " 10000  0.333333        3      9\n",
       " 12000  0.000000        0      2\n",
       " 14000  0.000000        0      5\n",
       " 16000  0.250000        1      4\n",
       " 18000  0.000000        0      4\n",
       " 20000  0.000000        0      3\n",
       " 22000  0.000000        0      1\n",
       " 24000       NaN        0      0\n",
       " 26000  0.500000        1      2\n",
       " 28000       NaN        0      0\n",
       " 30000  0.000000        0      1\n",
       " 32000  0.000000        0      1\n",
       " 34000       NaN        0      0\n",
       " 36000       NaN        0      0"
      ]
     },
     "execution_count": 253,
     "metadata": {},
     "output_type": "execute_result"
    }
   ],
   "source": [
    "normalized_success_df"
   ]
  },
  {
   "cell_type": "code",
   "execution_count": 8,
   "metadata": {
    "collapsed": false,
    "scrolled": true
   },
   "outputs": [
    {
     "data": {
      "text/plain": [
       "(-4000, 40000)"
      ]
     },
     "execution_count": 8,
     "metadata": {},
     "output_type": "execute_result"
    },
    {
     "data": {
      "image/png": "[encoded data removed]",
      "text/plain": [
       "<matplotlib.figure.Figure at 0x110215d90>"
      ]
     },
     "metadata": {},
     "output_type": "display_data"
    }
   ],
   "source": [
    "norm_scattered = normalized_downloads.plot(kind='scatter',x='rating',y='cumulative_downloads_2016-02')\n",
    "norm_scattered.set_xlim([-4000,40000])"
   ]
  },
  {
   "cell_type": "markdown",
   "metadata": {},
   "source": [
    "We can infer the number of different versions an app has released by counting the set of versions that have been reviewed. This is a proxy for the number of releases that an app has had during its time in these months. I suspect the correlation is strong because of two reasons: developers who maintain and release more often are able to address users' concerns and the correlation that an unpopular app may only be reviewed few times (or even never) for the same version so they will appear to have a lower number of versions when in reality they could have released multiple in between that were just never reviewed."
   ]
  },
  {
   "cell_type": "code",
   "execution_count": 5,
   "metadata": {
    "collapsed": false,
    "scrolled": true
   },
   "outputs": [
    {
     "data": {
      "image/png": "[encoded data removed]",
      "text/plain": [
       "<matplotlib.figure.Figure at 0x10ebc7fd0>"
      ]
     },
     "metadata": {},
     "output_type": "display_data"
    }
   ],
   "source": [
    "normalized_downloads2=normalized_downloads.join(normalized_reviews.groupby('id').version.nunique())\n",
    "#normalized_downloads2[['version','cumulative_downloads_2016-02']].dropna().plot(kind='scatter',x='version',y = 'cumulative_downloads_2016-02')\n",
    "version_totals = normalized_downloads2['version'].value_counts()\n",
    "top_percent_totals = normalized_downloads2[normalized_downloads2['cumulative_downloads_2016-02'] > 1500000]['version'].value_counts()\n",
    "#version_totals\n",
    "percent_totals = pd.DataFrame({'totals':version_totals,'top_one':top_percent_totals, 'percent':top_percent_totals/version_totals})\n",
    "percent_plot = percent_totals[0:5].plot(kind='bar',y='percent')\n",
    "percent_plot.set_ylim([0,.1]);"
   ]
  }
 ],
 "metadata": {
  "kernelspec": {
   "display_name": "Python 2",
   "language": "python",
   "name": "python2"
  },
  "language_info": {
   "codemirror_mode": {
    "name": "ipython",
    "version": 2
   },
   "file_extension": ".py",
   "mimetype": "text/x-python",
   "name": "python",
   "nbconvert_exporter": "python",
   "pygments_lexer": "ipython2",
   "version": "2.7.11"
  }
 },
 "nbformat": 4,
 "nbformat_minor": 0
}
